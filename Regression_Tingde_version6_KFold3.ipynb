{
 "cells": [
  {
   "cell_type": "markdown",
   "id": "4f00ca89",
   "metadata": {},
   "source": [
    "# Studienarbeit: Uncertainty modelling of static laser scanning using Pointnet"
   ]
  },
  {
   "cell_type": "markdown",
   "id": "ff5aa4da",
   "metadata": {},
   "source": [
    "##  Imports and settings"
   ]
  },
  {
   "cell_type": "code",
   "execution_count": 2,
   "id": "b6dc2547-f086-4c69-8ade-10cd4db8ddc6",
   "metadata": {},
   "outputs": [],
   "source": [
    "#Numerical, matrix operations\n",
    "import numpy as np\n",
    "import math\n",
    "\n",
    "#Data read and write to make_dot\n",
    "import os\n",
    "import pandas as pd                                           #open source data analysis and manipulation tool\n",
    "import csv\n",
    "\n",
    "# Progress bars\n",
    "from tqdm.notebook import tqdm\n",
    "\n",
    "# Pytorch deep learning tensor manipulation framework\n",
    "import torch\n",
    "import torch.utils.data\n",
    "import torch.nn as nn\n",
    "import torch.nn.functional as F\n",
    "import torch.optim as optim\n",
    "from torch.utils.data import Dataset, DataLoader, random_split\n",
    "#from pointnet_utils import PointNetEncoder, feature_transform_reguliarzer\n",
    "# Switch to CPU when GPU is not available.\n",
    "device = torch.device('cuda' if torch.cuda.is_available() else 'cpu')\n",
    "\n",
    "from torchmetrics.regression import R2Score\n",
    "\n",
    "# Draw pytorch's network\n",
    "#from torchviz import make_dot\n",
    "\n",
    "# Learning curve plotting\n",
    "#from torch.utils.tensorboard import SummaryWriter\n",
    "\n",
    "#Sklearn\n",
    "from sklearn.model_selection import train_test_split\n",
    "from sklearn.preprocessing import StandardScaler , MinMaxScaler\n",
    "from sklearn.neighbors import KDTree\n",
    "from sklearn.metrics import mean_squared_error\n",
    "from sklearn.metrics import r2_score\n",
    "from sklearn.model_selection import KFold\n",
    "from sklearn.model_selection import GridSearchCV\n",
    "#Others\n",
    "import seaborn as sns\n",
    "import matplotlib.pyplot as plt\n",
    "from plyfile import PlyData, PlyElement\n",
    "import random\n",
    "#import open3d as o3d\n",
    "import copy"
   ]
  },
  {
   "cell_type": "markdown",
   "id": "a68bb996",
   "metadata": {},
   "source": [
    "##   Part 1: Laden des Datensatzes & Zuordnen der Features"
   ]
  },
  {
   "cell_type": "code",
   "execution_count": 3,
   "id": "03872cbc",
   "metadata": {},
   "outputs": [],
   "source": [
    "f = r\"C:\\Studienarbeit/Code/01_3DPrint.ply\"\n",
    "ply = PlyData.read(f)\n",
    "x = ply.elements[0].data['x']\n",
    "y = ply.elements[0].data['y']\n",
    "z = ply.elements[0].data['z']\n",
    "Scan_ID = ply.elements[0].data[\"scalar_Scan_ID\"]\n",
    "intensity = ply.elements[0].data['scalar_intensity']\n",
    "incidence = ply.elements[0].data['scalar_incidence']\n",
    "spotsize = ply.elements[0].data['scalar_spotsize']\n",
    "sigma_dist = ply.elements[0].data['scalar_sigma_dist']\n",
    "distance = ply.elements[0].data['scalar_range_measured']\n",
    "range_residual = ply.elements[0].data['scalar_range_residual']\n",
    "\n",
    "raw_f = np.c_[intensity,incidence,sigma_dist,distance]\n",
    "raw_xyz = np.c_[x,y,z]\n",
    "# Hier werdeb die Residuen auf 1 cm begrenzt. Alles was darüber liegt sind höchstwahrscheinlich Ausreißer\n",
    "I = np.where(np.abs(range_residual < 0.01) & (incidence > 10))#&(sigma_dist<0.0007)\n",
    "\n",
    "raw_f = raw_f[I[0],:]\n",
    "xyz = raw_xyz[I[0],:]\n",
    "raw_y = range_residual[I[0]]\n"
   ]
  },
  {
   "cell_type": "markdown",
   "id": "9620e002",
   "metadata": {},
   "source": [
    "### Feature Transformation"
   ]
  },
  {
   "cell_type": "code",
   "execution_count": 4,
   "id": "4f961dde",
   "metadata": {},
   "outputs": [],
   "source": [
    "def pc_normalize(pc):\n",
    "    '''normalize the point cloud by substracting the centroid and dividing by the maximum norm'''\n",
    "    l = pc.shape[0]\n",
    "    centroid = np.mean(pc, axis=0)\n",
    "    pc = pc - centroid\n",
    "    m = np.max(np.sqrt(np.sum(pc**2, axis=1)))\n",
    "    pc = pc / m\n",
    "    return pc\n",
    "\n",
    "device = torch.device('cuda' if torch.cuda.is_available() else 'cpu')\n",
    "scaler = MinMaxScaler()\n",
    "feature  = scaler.fit_transform(raw_f) # normalize\n",
    "raw_fy =np.hstack((feature, raw_y.reshape(-1,1)))\n",
    "xyz = pc_normalize(xyz)\n",
    "scan_id = Scan_ID[I[0]]\n"
   ]
  },
  {
   "cell_type": "markdown",
   "id": "21370ffa",
   "metadata": {},
   "source": [
    "##### read the file of group"
   ]
  },
  {
   "cell_type": "code",
   "execution_count": 5,
   "id": "2547749e",
   "metadata": {},
   "outputs": [],
   "source": [
    "import os\n",
    "\n",
    "def ebene_loader(scan_id, data_path, filename_prefix): \n",
    "    '''load the point cloud of the plane'''\n",
    "    filename_number = str(scan_id)\n",
    "    file_path = os.path.join(data_path, f\"{filename_prefix}_{filename_number}.npy\")\n",
    "    data = np.load(file_path)\n",
    "    data = torch.from_numpy(data) \n",
    "    return data\n",
    "\n",
    "def load_data(scan_ids, data_path, filename_prefix):\n",
    "    raw_x_list = []\n",
    "    for scan_idx in scan_ids:\n",
    "        ebene_xyz = ebene_loader(scan_idx, data_path, filename_prefix)\n",
    "        raw_x_list.append(ebene_xyz)\n",
    "    raw_x = torch.cat(raw_x_list, dim=0)\n",
    "    return raw_x\n",
    "\n",
    "data_path = 'C:/Studienarbeit/Code/Pointnet/data/New/'\n",
    "filename_prefix = \"Group\"\n",
    "scan_ids = np.unique(scan_id)  # 假设scan_id已经定义\n",
    "raw_x = load_data(scan_ids, data_path, filename_prefix)"
   ]
  },
  {
   "cell_type": "markdown",
   "id": "4825b95a",
   "metadata": {},
   "source": [
    "#### Train datensatz & Test datensatz & Valid datensatz"
   ]
  },
  {
   "cell_type": "code",
   "execution_count": 6,
   "metadata": {},
   "outputs": [],
   "source": [
    "# print(raw_x.shape)\n",
    "# print(raw_fy.shape)\n",
    "# raw_x = raw_x[:10000,:,:]\n",
    "# raw_fy = raw_fy[:10000,:]\n",
    "# print(raw_x.shape)\n",
    "# print(raw_fy.shape)"
   ]
  },
  {
   "cell_type": "code",
   "execution_count": 7,
   "id": "7b2a080d",
   "metadata": {},
   "outputs": [
    {
     "name": "stdout",
     "output_type": "stream",
     "text": [
      "torch.Size([253158, 128, 3])\n",
      "test data ratio: 10.0 %\n"
     ]
    }
   ],
   "source": [
    "\n",
    "x_rest, x_test, y_rest, y_test = train_test_split(raw_x, raw_fy,test_size=0.1,random_state=42)\n",
    "#method 1 --------------------------------------------------------------------------------------\n",
    "#x_train, x_valid, y_train, y_valid = train_test_split(x_train, y_train, test_size=0.1, random_state=1) \n",
    "\n",
    "#method 2 KFold --------------------------------------------------------------------------------------\n",
    "# from sklearn.model_selection import KFold\n",
    "kf = KFold(n_splits=5, shuffle=True, random_state=42)\n",
    "print(x_test.shape)\n",
    "print(\"test data ratio:\",round(y_test.shape[0]/raw_fy.shape[0]*100,2),\"%\")\n",
    "\n"
   ]
  },
  {
   "cell_type": "markdown",
   "id": "d82fa34c",
   "metadata": {},
   "source": [
    "### Dataloader \n",
    "Read data from files and set up training, validation, and testing sets. "
   ]
  },
  {
   "cell_type": "code",
   "execution_count": 8,
   "id": "cc7fd8e5",
   "metadata": {},
   "outputs": [],
   "source": [
    "class EbeneDataset(Dataset):  #Dataset\n",
    "    '''\n",
    "    x: np.ndarray  特征矩阵.\n",
    "    y: np.ndarray  目标标签, 如果为None,则是预测的数据集\n",
    "    '''\n",
    "    def __init__(self, x, y=None):\n",
    "        if y is None:\n",
    "            self.y = y\n",
    "        else:\n",
    "            self.y = torch.FloatTensor(y)\n",
    "        self.x = torch.FloatTensor(x)\n",
    "\n",
    "    def __getitem__(self, idx):\n",
    "        if self.y is None:\n",
    "            return self.x[idx]\n",
    "        return self.x[idx], self.y[idx]\n",
    "\n",
    "    def __len__(self):\n",
    "        return len(self.x)"
   ]
  },
  {
   "cell_type": "code",
   "execution_count": 9,
   "id": "1f82571c",
   "metadata": {},
   "outputs": [],
   "source": [
    "def loader(x_train, y_train,x_valid, y_valid,x_test,y_test):\n",
    "    \n",
    "    train_dataset, valid_dataset, test_dataset = EbeneDataset(x_train, y_train),EbeneDataset(x_valid, y_valid),EbeneDataset(x_test,y_test)\n",
    "    #print(train_dataset)\n",
    "\n",
    "    # Pytoch data loader loads pytorch dataset into batchs./使用Pytorch中Dataloader类按照Batch将数据集加载\n",
    "    #sheuffle: 每个 epoch 是否乱序\n",
    "    train_loader = DataLoader(train_dataset, batch_size=config['batch_size'], shuffle=True, pin_memory=True)\n",
    "    valid_loader = DataLoader(valid_dataset, batch_size=config['batch_size'], shuffle=True, pin_memory=True)\n",
    "    test_loader  = DataLoader(test_dataset , batch_size= 1, shuffle=False, pin_memory=True)\n",
    "\n",
    "    return train_loader,valid_loader,test_loader"
   ]
  },
  {
   "cell_type": "markdown",
   "id": "35ac3d35-13f8-4ee4-a433-dfedf92c19fb",
   "metadata": {},
   "source": [
    "## Part 5: Deep learning Modellen "
   ]
  },
  {
   "cell_type": "markdown",
   "id": "e685ec5a",
   "metadata": {},
   "source": [
    "### Transform & Transform reguliarze & PointNet"
   ]
  },
  {
   "attachments": {
    "image.png": {
     "image/png": "[encoded data removed]"
    }
   },
   "cell_type": "markdown",
   "id": "408bcb1d",
   "metadata": {},
   "source": [
    "### Multi-scalegrouping $ Pointnet++\n",
    "![image.png](attachment:image.png)"
   ]
  },
  {
   "cell_type": "markdown",
   "id": "136c76c8",
   "metadata": {},
   "source": [
    "### Defining the PR_Model "
   ]
  },
  {
   "cell_type": "code",
   "execution_count": 10,
   "id": "984843c7",
   "metadata": {},
   "outputs": [],
   "source": [
    "\n",
    "################\n",
    "class RePN_Model(nn.Module): #Regression-PointNet\n",
    "    def __init__(self,  nsample_list, mlp_list):\n",
    "        super(RePN_Model, self).__init__()\n",
    "        self.nsample_list = nsample_list\n",
    "        self.mlp_list = mlp_list\n",
    "        self.conv_blocks = nn.ModuleList() #ModuleList是一个储存各种模块的容器，可以像使用list一样使用它\n",
    "        self.bn_blocks = nn.ModuleList()\n",
    "        for i in range(len(mlp_list)):\n",
    "            convs = nn.ModuleList()\n",
    "            bns = nn.ModuleList()\n",
    "            last_channel =  3\n",
    "            for out_channel in mlp_list[i]:\n",
    "                convs.append(nn.Conv1d(last_channel, out_channel, 1))\n",
    "                bns.append(nn.BatchNorm1d(out_channel))\n",
    "                last_channel = out_channel\n",
    "            self.conv_blocks.append(convs)\n",
    "            self.bn_blocks.append(bns)\n",
    "        #print(\"self.conv_blocks:{}\".format(self.conv_blocks))\n",
    "        #print('self.bn_blocks:{}'.format(self.bn_blocks))\n",
    "        self.fc1 = nn.Linear(324, 216) \n",
    "        self.fc2 = nn.Linear(216, 216)\n",
    "        self.fc3 = nn.Linear(216, 110)\n",
    "        self.fc4 = nn.Linear(110, 110)\n",
    "        self.fc5 = nn.Linear(110, 1)\n",
    "        self.noli = nn.ReLU()       #non-linearity\n",
    "\n",
    "\n",
    "    def forward(self, x, f):\n",
    "        xn = x.permute(0, 2, 1)  # [B, 3, K] \n",
    "        #print(\"x:{}\".format(x))\n",
    "        #print(\"x shape:{}\".format(x.shape))\n",
    "        new_points_list = []\n",
    "        # Convolution input: [B, 3, K]  output: [B, 64/128/128, K]\n",
    "        for i, nsample in enumerate(self.nsample_list):\n",
    "            #print(\"i:{}\".format(i))\n",
    "            x = xn[:,:,:nsample]\n",
    "            for j in range(len(self.conv_blocks[i])):\n",
    "                #print(\"j:{}\".format(j))\n",
    "                conv = self.conv_blocks[i][j]\n",
    "                #print(\"conv:{}\".format(conv))\n",
    "                bn = self.bn_blocks[i][j]\n",
    "                #print(\"x shape:{}\".format(x.shape))\n",
    "                #grouped_points =  F.relu(bn(conv(x))) #卷积 B*3*K\n",
    "                x = conv(x)\n",
    "                x = bn(x)\n",
    "                x = F.relu(x)\n",
    "\n",
    "            new_points = torch.max(x, 2)[0]  # [B, 64/128/128] The first radius feature I*64 /The second radius feature I*128 /The third radius feature I*128\n",
    "            new_points_list.append(new_points) #B*64 + B*128 + B*128    \n",
    "        new_points_concat = torch.cat(new_points_list, dim=1)\n",
    "        x = torch.cat([new_points_concat, f], dim=1) #B*(320+4) \n",
    "        # fully connected layer       \n",
    "        x = self.fc1(x)\n",
    "        x = self.noli(x)\n",
    "        x = self.fc2(x)\n",
    "        x = self.noli(x)\n",
    "        x = self.fc3(x)\n",
    "        x = self.noli(x)\n",
    "        x = self.fc4(x)\n",
    "        x = self.noli(x)\n",
    "        x = self.fc5(x)\n",
    "\n",
    "        return x\n",
    "\n",
    "\n"
   ]
  },
  {
   "cell_type": "markdown",
   "id": "5b25419b",
   "metadata": {},
   "source": [
    "### Training loop"
   ]
  },
  {
   "cell_type": "code",
   "execution_count": 11,
   "id": "b7467de8",
   "metadata": {},
   "outputs": [],
   "source": [
    "def trainer(train_loader, valid_loader, model, config, device, optimizer):\n",
    "    \n",
    "    list_mean_train_loss = []\n",
    "    list_mean_valid_loss = []\n",
    "\n",
    "    criterion = nn.MSELoss() # loss function\n",
    "    #criterion = nn.CrossEntropyLoss() # loss function\n",
    "    \n",
    "    # Define Optimizer\n",
    "    #optimizer = torch.optim.SGD(model.parameters(), lr=config['learning_rate'], momentum=0.9) #\n",
    "    \n",
    "    if not os.path.isdir('./models'):\n",
    "        # Create folder - for storing models\n",
    "        os.mkdir('./models')\n",
    "\n",
    "    n_epochs, best_loss, step, early_stop_count = config['n_epochs'], math.inf, 0, 0 #math.inf 无穷大\n",
    "\n",
    "    for epoch in range(n_epochs):\n",
    "        model.train() \n",
    "        loss_record = []\n",
    "  \n",
    "#train-----------------------------------------------------------------------------------------------------------\n",
    "        # tqdm helps us to show the progress of our training  \n",
    "        train_pbar = tqdm(train_loader, position=0, leave=True)      \n",
    "        # Set the left side of the progress bar : Show the number of Epochs\n",
    "        train_pbar.set_description(f'Epoch [{epoch+1}/{n_epochs}]')\n",
    "        ss = 0\n",
    "        for x, y in train_pbar:\n",
    " \n",
    "            ss +=1\n",
    "            f = y[:,:4]\n",
    "            y = y[:,4]\n",
    "            y = y.view(-1, 1)\n",
    "            optimizer.zero_grad()               # Set the gradient to 0..\n",
    "            x,  y, f = x.to(device), y.to(device),f.to(device)   # Transfer data one to the appropriate storage location (CPU/GPU)\n",
    "            pred = model(x, f)      \n",
    "            loss = criterion(pred, y)\n",
    "            loss.backward()                     # Back propagation Calculation of gradients.\n",
    "            optimizer.step()                    # Update network parameters\n",
    "            step += 1\n",
    "            loss_record.append(loss.detach().item())\n",
    "\n",
    "            # After training a batch of data, show the loss on the right side of the progress bar\n",
    "            #train_pbar.set_postfix({'loss': loss.detach().item()})\n",
    "            if ss == 200:\n",
    "               mean_train_loss = np.sqrt(np.mean(loss_record))*1000\n",
    "               train_pbar.set_description('RMSE=: %f' % (mean_train_loss))\n",
    "               ss = 0\n",
    "               pass\n",
    "            pass\n",
    "        \n",
    "        mean_train_loss = np.mean(loss_record)\n",
    "        mean_train_loss = np.sqrt(mean_train_loss)*1000\n",
    "        list_mean_train_loss.append(mean_train_loss)\n",
    "\n",
    "#validation-------------------------------------------------------------------------------------------------------\n",
    "        model.eval() # Set the model to evaluation mode.\n",
    "        loss_record = []\n",
    "\n",
    "        for x, y in valid_loader:\n",
    "            f = y[:,:4]\n",
    "            y = y[:,4].view(-1, 1)\n",
    "            x, y, f = x.to(device), y.to(device), f.to(device)\n",
    "            with torch.no_grad():\n",
    "                pred = model(x, f)\n",
    "                loss = criterion(pred, y)\n",
    "            loss_record.append(loss.item())\n",
    "            pass\n",
    "\n",
    "        mean_valid_loss = np.mean(loss_record)\n",
    "        mean_valid_loss = np.sqrt(mean_valid_loss)*1000\n",
    "        list_mean_valid_loss.append(mean_valid_loss)\n",
    "        print(f'Epoch [{epoch+1}/{n_epochs}]: Train loss: {mean_train_loss:.12f},\\\n",
    "        Valid loss: {mean_valid_loss:.12f}')\n",
    "\n",
    "#------------------------------------------------------------------------------------------------------------------ \n",
    "        if mean_valid_loss < best_loss:\n",
    "            best_loss = mean_valid_loss\n",
    "            torch.save(model.state_dict(), config['save_path'][k]) # Model Saving\n",
    "            print('Saving model with loss {:.12f}...'.format(best_loss))\n",
    "            early_stop_count = 0\n",
    "        else: \n",
    "            early_stop_count += 1\n",
    "\n",
    "        if early_stop_count >= config['early_stop']:\n",
    "            print('\\nModel is not improving, so we halt the training session.')\n",
    "            return list_mean_train_loss, list_mean_valid_loss, best_loss\n",
    "    return list_mean_train_loss, list_mean_valid_loss , best_loss\n"
   ]
  },
  {
   "cell_type": "markdown",
   "id": "5b17484b",
   "metadata": {},
   "source": [
    "### Start training"
   ]
  },
  {
   "cell_type": "code",
   "execution_count": 12,
   "id": "26fcc15a",
   "metadata": {},
   "outputs": [],
   "source": [
    "def print_summary( list_mean_train_loss, list_mean_valid_los):\n",
    " \n",
    "    plt.subplot(1,2,2)\n",
    "    plt.plot([x for x in list_mean_train_loss], label='Training Loss')\n",
    "    plt.plot([x for x in list_mean_valid_los], label='Validation Loss')\n",
    "    plt.legend()\n",
    "    plt.show()\n",
    "\n",
    "def setup_seed(seed):\n",
    "    torch.manual_seed(seed)\n",
    "    torch.cuda.manual_seed_all(seed)\n",
    "    np.random.seed(seed)\n",
    "    pass\n",
    "\n",
    "def save_pred(preds, file):\n",
    "    ''' 将模型保存到指定位置'''\n",
    "    with open(file, 'w') as fp:\n",
    "        writer = csv.writer(fp)\n",
    "        writer.writerow(['id', 'tested_positive'])\n",
    "        for i, p in enumerate(preds):\n",
    "            writer.writerow([i, p])\n",
    "    pass\n",
    "\n",
    "def test(test_loader, device, k, y_test_r):\n",
    "    model.eval() # 设置成eval模式.\n",
    "    preds = []\n",
    "    #f = torch.tensor(y_test[:,:4])\n",
    "    for x, y in tqdm(test_loader):\n",
    "        model.load_state_dict(torch.load(config['save_path'][k]))\n",
    "        f = y[:,:4]\n",
    "        #print(f.shape)\n",
    "        x = x.to(device)                        \n",
    "        with torch.no_grad():\n",
    "            pred = model(x, f)         \n",
    "            preds.append(pred.detach().cpu())   \n",
    "    preds = torch.cat(preds, dim=0).numpy()\n",
    "    #y_test = torch.tensor(y_test[:,4])\n",
    "    RMSE = np.sqrt(mean_squared_error(y_test_r, preds))\n",
    "    R2 = r2_score(y_test_r, preds)\n",
    "    print(f\" Fold: {k+1}/5 R2 = {R2*100:.2f} , RMSE = {RMSE:.6f}\") \n",
    "   \n",
    "    return preds"
   ]
  },
  {
   "cell_type": "code",
   "execution_count": 13,
   "id": "93b038fd",
   "metadata": {},
   "outputs": [
    {
     "name": "stdout",
     "output_type": "stream",
     "text": [
      "[2.5, 3.5, 4.5]\n"
     ]
    }
   ],
   "source": [
    "a = [1,2,3]\n",
    "b = [4,5,6]\n",
    "c = [[1,2,3],[4,5,6]]   \n",
    "c= list(np.mean(c,axis=0))\n",
    "print(c)"
   ]
  },
  {
   "cell_type": "code",
   "execution_count": 30,
   "id": "62c78735",
   "metadata": {},
   "outputs": [
    {
     "name": "stdout",
     "output_type": "stream",
     "text": [
      "Fold: 1 /5\n",
      "training...\n"
     ]
    },
    {
     "data": {
      "application/vnd.jupyter.widget-view+json": {
       "model_id": "5a6a11bd3196436bbb10f1be899afeb8",
       "version_major": 2,
       "version_minor": 0
      },
      "text/plain": [
       "  0%|          | 0/28481 [00:00<?, ?it/s]"
      ]
     },
     "metadata": {},
     "output_type": "display_data"
    },
    {
     "name": "stdout",
     "output_type": "stream",
     "text": [
      "Epoch [1/20]: Train loss: 0.876188585934,        Valid loss: 0.445139575944\n",
      "Saving model with loss 0.445139575944...\n"
     ]
    },
    {
     "data": {
      "application/vnd.jupyter.widget-view+json": {
       "model_id": "0c580d89a7e54e6699ecfb981369ea5e",
       "version_major": 2,
       "version_minor": 0
      },
      "text/plain": [
       "  0%|          | 0/28481 [00:00<?, ?it/s]"
      ]
     },
     "metadata": {},
     "output_type": "display_data"
    },
    {
     "name": "stdout",
     "output_type": "stream",
     "text": [
      "Epoch [2/20]: Train loss: 0.474832078487,        Valid loss: 0.418642296548\n",
      "Saving model with loss 0.418642296548...\n"
     ]
    },
    {
     "data": {
      "application/vnd.jupyter.widget-view+json": {
       "model_id": "498ce9938c4f44718a3e63d1bd7a8e00",
       "version_major": 2,
       "version_minor": 0
      },
      "text/plain": [
       "  0%|          | 0/28481 [00:00<?, ?it/s]"
      ]
     },
     "metadata": {},
     "output_type": "display_data"
    },
    {
     "name": "stdout",
     "output_type": "stream",
     "text": [
      "Epoch [3/20]: Train loss: 0.446158614734,        Valid loss: 0.420553034460\n"
     ]
    },
    {
     "data": {
      "application/vnd.jupyter.widget-view+json": {
       "model_id": "f212865a2c1647f9b0c2140fb94ca91e",
       "version_major": 2,
       "version_minor": 0
      },
      "text/plain": [
       "  0%|          | 0/28481 [00:00<?, ?it/s]"
      ]
     },
     "metadata": {},
     "output_type": "display_data"
    },
    {
     "name": "stdout",
     "output_type": "stream",
     "text": [
      "Epoch [4/20]: Train loss: 0.427378777860,        Valid loss: 0.590055045947\n"
     ]
    },
    {
     "data": {
      "application/vnd.jupyter.widget-view+json": {
       "model_id": "d8e6b0b706ec4122ac6049f7e7a707ff",
       "version_major": 2,
       "version_minor": 0
      },
      "text/plain": [
       "  0%|          | 0/28481 [00:00<?, ?it/s]"
      ]
     },
     "metadata": {},
     "output_type": "display_data"
    },
    {
     "name": "stdout",
     "output_type": "stream",
     "text": [
      "Epoch [5/20]: Train loss: 0.417860051548,        Valid loss: 0.454212992028\n"
     ]
    },
    {
     "data": {
      "application/vnd.jupyter.widget-view+json": {
       "model_id": "4ba91c9bcdc847b28dbf9dfaa419f914",
       "version_major": 2,
       "version_minor": 0
      },
      "text/plain": [
       "  0%|          | 0/28481 [00:00<?, ?it/s]"
      ]
     },
     "metadata": {},
     "output_type": "display_data"
    },
    {
     "name": "stdout",
     "output_type": "stream",
     "text": [
      "Epoch [6/20]: Train loss: 0.412990476751,        Valid loss: 0.388108144970\n",
      "Saving model with loss 0.388108144970...\n"
     ]
    },
    {
     "data": {
      "application/vnd.jupyter.widget-view+json": {
       "model_id": "663615d91d6641bd9f917c1d6120e3f1",
       "version_major": 2,
       "version_minor": 0
      },
      "text/plain": [
       "  0%|          | 0/28481 [00:00<?, ?it/s]"
      ]
     },
     "metadata": {},
     "output_type": "display_data"
    },
    {
     "name": "stdout",
     "output_type": "stream",
     "text": [
      "Epoch [7/20]: Train loss: 0.405417126252,        Valid loss: 0.415362001480\n"
     ]
    },
    {
     "data": {
      "application/vnd.jupyter.widget-view+json": {
       "model_id": "854512ac01f2401bb0e1c6d4ba4b42f6",
       "version_major": 2,
       "version_minor": 0
      },
      "text/plain": [
       "  0%|          | 0/28481 [00:00<?, ?it/s]"
      ]
     },
     "metadata": {},
     "output_type": "display_data"
    },
    {
     "name": "stdout",
     "output_type": "stream",
     "text": [
      "Epoch [8/20]: Train loss: 0.400036051159,        Valid loss: 0.384936898240\n",
      "Saving model with loss 0.384936898240...\n"
     ]
    },
    {
     "data": {
      "application/vnd.jupyter.widget-view+json": {
       "model_id": "4d8a6adde7884a289c697c47e4e008b3",
       "version_major": 2,
       "version_minor": 0
      },
      "text/plain": [
       "  0%|          | 0/28481 [00:00<?, ?it/s]"
      ]
     },
     "metadata": {},
     "output_type": "display_data"
    },
    {
     "name": "stdout",
     "output_type": "stream",
     "text": [
      "Epoch [9/20]: Train loss: 0.394920809553,        Valid loss: 0.369114331573\n",
      "Saving model with loss 0.369114331573...\n"
     ]
    },
    {
     "data": {
      "application/vnd.jupyter.widget-view+json": {
       "model_id": "9373b466c0ee44e68c1d174d547c237e",
       "version_major": 2,
       "version_minor": 0
      },
      "text/plain": [
       "  0%|          | 0/28481 [00:00<?, ?it/s]"
      ]
     },
     "metadata": {},
     "output_type": "display_data"
    },
    {
     "name": "stdout",
     "output_type": "stream",
     "text": [
      "Epoch [10/20]: Train loss: 0.386715338205,        Valid loss: 0.360406242128\n",
      "Saving model with loss 0.360406242128...\n"
     ]
    },
    {
     "data": {
      "application/vnd.jupyter.widget-view+json": {
       "model_id": "d0d27189643841aca38d26ac4353efa5",
       "version_major": 2,
       "version_minor": 0
      },
      "text/plain": [
       "  0%|          | 0/28481 [00:00<?, ?it/s]"
      ]
     },
     "metadata": {},
     "output_type": "display_data"
    },
    {
     "name": "stdout",
     "output_type": "stream",
     "text": [
      "Epoch [11/20]: Train loss: 0.382355143883,        Valid loss: 0.356462042759\n",
      "Saving model with loss 0.356462042759...\n"
     ]
    },
    {
     "data": {
      "application/vnd.jupyter.widget-view+json": {
       "model_id": "25c7072546964094a6261e205b58c834",
       "version_major": 2,
       "version_minor": 0
      },
      "text/plain": [
       "  0%|          | 0/28481 [00:00<?, ?it/s]"
      ]
     },
     "metadata": {},
     "output_type": "display_data"
    },
    {
     "name": "stdout",
     "output_type": "stream",
     "text": [
      "Epoch [12/20]: Train loss: 0.379750065132,        Valid loss: 0.404360779401\n"
     ]
    },
    {
     "data": {
      "application/vnd.jupyter.widget-view+json": {
       "model_id": "8abcdff9b3204bed872576f963a93f70",
       "version_major": 2,
       "version_minor": 0
      },
      "text/plain": [
       "  0%|          | 0/28481 [00:00<?, ?it/s]"
      ]
     },
     "metadata": {},
     "output_type": "display_data"
    },
    {
     "name": "stdout",
     "output_type": "stream",
     "text": [
      "Epoch [13/20]: Train loss: 0.376290024440,        Valid loss: 0.391617346299\n"
     ]
    },
    {
     "data": {
      "application/vnd.jupyter.widget-view+json": {
       "model_id": "c5196ecd44974fdeab00b0b9ddf47ec3",
       "version_major": 2,
       "version_minor": 0
      },
      "text/plain": [
       "  0%|          | 0/28481 [00:00<?, ?it/s]"
      ]
     },
     "metadata": {},
     "output_type": "display_data"
    },
    {
     "name": "stdout",
     "output_type": "stream",
     "text": [
      "Epoch [14/20]: Train loss: 0.375393265104,        Valid loss: 0.344951643450\n",
      "Saving model with loss 0.344951643450...\n"
     ]
    },
    {
     "data": {
      "application/vnd.jupyter.widget-view+json": {
       "model_id": "1da55f192ccd484e8063bd86960700a9",
       "version_major": 2,
       "version_minor": 0
      },
      "text/plain": [
       "  0%|          | 0/28481 [00:00<?, ?it/s]"
      ]
     },
     "metadata": {},
     "output_type": "display_data"
    },
    {
     "name": "stdout",
     "output_type": "stream",
     "text": [
      "Epoch [15/20]: Train loss: 0.372200518400,        Valid loss: 0.382632746045\n"
     ]
    },
    {
     "data": {
      "application/vnd.jupyter.widget-view+json": {
       "model_id": "d0d121cfcdb041f2b38f33e351080f58",
       "version_major": 2,
       "version_minor": 0
      },
      "text/plain": [
       "  0%|          | 0/28481 [00:00<?, ?it/s]"
      ]
     },
     "metadata": {},
     "output_type": "display_data"
    },
    {
     "name": "stdout",
     "output_type": "stream",
     "text": [
      "Epoch [16/20]: Train loss: 0.371277775470,        Valid loss: 0.370891613023\n"
     ]
    },
    {
     "data": {
      "application/vnd.jupyter.widget-view+json": {
       "model_id": "8c274397f46f496c826b110cfd713b0a",
       "version_major": 2,
       "version_minor": 0
      },
      "text/plain": [
       "  0%|          | 0/28481 [00:00<?, ?it/s]"
      ]
     },
     "metadata": {},
     "output_type": "display_data"
    },
    {
     "name": "stdout",
     "output_type": "stream",
     "text": [
      "Epoch [17/20]: Train loss: 0.369210512458,        Valid loss: 0.400203960313\n"
     ]
    },
    {
     "data": {
      "application/vnd.jupyter.widget-view+json": {
       "model_id": "73751e4981a5404783a22da4121b5a77",
       "version_major": 2,
       "version_minor": 0
      },
      "text/plain": [
       "  0%|          | 0/28481 [00:00<?, ?it/s]"
      ]
     },
     "metadata": {},
     "output_type": "display_data"
    },
    {
     "name": "stdout",
     "output_type": "stream",
     "text": [
      "Epoch [18/20]: Train loss: 0.368681158878,        Valid loss: 0.356046637453\n"
     ]
    },
    {
     "data": {
      "application/vnd.jupyter.widget-view+json": {
       "model_id": "f2a683b8ffe4418aa404b84e7b756333",
       "version_major": 2,
       "version_minor": 0
      },
      "text/plain": [
       "  0%|          | 0/28481 [00:00<?, ?it/s]"
      ]
     },
     "metadata": {},
     "output_type": "display_data"
    },
    {
     "name": "stdout",
     "output_type": "stream",
     "text": [
      "Epoch [19/20]: Train loss: 0.366484722812,        Valid loss: 0.365461689406\n"
     ]
    },
    {
     "data": {
      "application/vnd.jupyter.widget-view+json": {
       "model_id": "c057c691162746bb9f3bb8fb251ebee4",
       "version_major": 2,
       "version_minor": 0
      },
      "text/plain": [
       "  0%|          | 0/28481 [00:00<?, ?it/s]"
      ]
     },
     "metadata": {},
     "output_type": "display_data"
    },
    {
     "name": "stdout",
     "output_type": "stream",
     "text": [
      "Epoch [20/20]: Train loss: 0.366995402168,        Valid loss: 0.345225889055\n",
      "\n",
      "Model is not improving, so we halt the training session.\n"
     ]
    },
    {
     "data": {
      "image/png": "[encoded data removed]",
      "text/plain": [
       "<Figure size 640x480 with 1 Axes>"
      ]
     },
     "metadata": {},
     "output_type": "display_data"
    },
    {
     "name": "stdout",
     "output_type": "stream",
     "text": [
      "testing...\n"
     ]
    },
    {
     "data": {
      "application/vnd.jupyter.widget-view+json": {
       "model_id": "c0da5c70afad4512abbe6554ba7acfd0",
       "version_major": 2,
       "version_minor": 0
      },
      "text/plain": [
       "  0%|          | 0/253158 [00:00<?, ?it/s]"
      ]
     },
     "metadata": {},
     "output_type": "display_data"
    },
    {
     "name": "stdout",
     "output_type": "stream",
     "text": [
      " Fold: 1/5 R2 = 71.03 , RMSE = 0.000344\n",
      "Fold: 2 /5\n",
      "training...\n"
     ]
    },
    {
     "data": {
      "application/vnd.jupyter.widget-view+json": {
       "model_id": "52a44508e63c4fb49b37026a72e8a93d",
       "version_major": 2,
       "version_minor": 0
      },
      "text/plain": [
       "  0%|          | 0/28481 [00:00<?, ?it/s]"
      ]
     },
     "metadata": {},
     "output_type": "display_data"
    },
    {
     "name": "stdout",
     "output_type": "stream",
     "text": [
      "Epoch [1/20]: Train loss: 0.886550220200,        Valid loss: 0.501098546286\n",
      "Saving model with loss 0.501098546286...\n"
     ]
    },
    {
     "data": {
      "application/vnd.jupyter.widget-view+json": {
       "model_id": "465dae7a793c4f5299f1ed5e8c5280e9",
       "version_major": 2,
       "version_minor": 0
      },
      "text/plain": [
       "  0%|          | 0/28481 [00:00<?, ?it/s]"
      ]
     },
     "metadata": {},
     "output_type": "display_data"
    },
    {
     "name": "stdout",
     "output_type": "stream",
     "text": [
      "Epoch [2/20]: Train loss: 0.473357130490,        Valid loss: 0.448734649249\n",
      "Saving model with loss 0.448734649249...\n"
     ]
    },
    {
     "data": {
      "application/vnd.jupyter.widget-view+json": {
       "model_id": "f58dee79d69148cd8557d761c0af9938",
       "version_major": 2,
       "version_minor": 0
      },
      "text/plain": [
       "  0%|          | 0/28481 [00:00<?, ?it/s]"
      ]
     },
     "metadata": {},
     "output_type": "display_data"
    },
    {
     "name": "stdout",
     "output_type": "stream",
     "text": [
      "Epoch [3/20]: Train loss: 0.445544723436,        Valid loss: 0.438976217039\n",
      "Saving model with loss 0.438976217039...\n"
     ]
    },
    {
     "data": {
      "application/vnd.jupyter.widget-view+json": {
       "model_id": "fdf99f23d92b4551aa2c6010598417d4",
       "version_major": 2,
       "version_minor": 0
      },
      "text/plain": [
       "  0%|          | 0/28481 [00:00<?, ?it/s]"
      ]
     },
     "metadata": {},
     "output_type": "display_data"
    },
    {
     "name": "stdout",
     "output_type": "stream",
     "text": [
      "Epoch [4/20]: Train loss: 0.431104988110,        Valid loss: 0.409878684706\n",
      "Saving model with loss 0.409878684706...\n"
     ]
    },
    {
     "data": {
      "application/vnd.jupyter.widget-view+json": {
       "model_id": "58e332178ef54bcd8575f926e41486d4",
       "version_major": 2,
       "version_minor": 0
      },
      "text/plain": [
       "  0%|          | 0/28481 [00:00<?, ?it/s]"
      ]
     },
     "metadata": {},
     "output_type": "display_data"
    },
    {
     "name": "stdout",
     "output_type": "stream",
     "text": [
      "Epoch [5/20]: Train loss: 0.416545983547,        Valid loss: 0.400930514659\n",
      "Saving model with loss 0.400930514659...\n"
     ]
    },
    {
     "data": {
      "application/vnd.jupyter.widget-view+json": {
       "model_id": "ce0817bf3e1a4f71b2322682fde8bc5c",
       "version_major": 2,
       "version_minor": 0
      },
      "text/plain": [
       "  0%|          | 0/28481 [00:00<?, ?it/s]"
      ]
     },
     "metadata": {},
     "output_type": "display_data"
    },
    {
     "name": "stdout",
     "output_type": "stream",
     "text": [
      "Epoch [6/20]: Train loss: 0.411286860995,        Valid loss: 0.418239682889\n"
     ]
    },
    {
     "data": {
      "application/vnd.jupyter.widget-view+json": {
       "model_id": "b7c88b7839c34d3aae9e7b8eaaa28640",
       "version_major": 2,
       "version_minor": 0
      },
      "text/plain": [
       "  0%|          | 0/28481 [00:00<?, ?it/s]"
      ]
     },
     "metadata": {},
     "output_type": "display_data"
    },
    {
     "name": "stdout",
     "output_type": "stream",
     "text": [
      "Epoch [7/20]: Train loss: 0.401714200866,        Valid loss: 0.535856991562\n"
     ]
    },
    {
     "data": {
      "application/vnd.jupyter.widget-view+json": {
       "model_id": "82a5091cd8c24a469c7e886a3220c859",
       "version_major": 2,
       "version_minor": 0
      },
      "text/plain": [
       "  0%|          | 0/28481 [00:00<?, ?it/s]"
      ]
     },
     "metadata": {},
     "output_type": "display_data"
    },
    {
     "name": "stdout",
     "output_type": "stream",
     "text": [
      "Epoch [8/20]: Train loss: 0.399004887456,        Valid loss: 0.360560204508\n",
      "Saving model with loss 0.360560204508...\n"
     ]
    },
    {
     "data": {
      "application/vnd.jupyter.widget-view+json": {
       "model_id": "635be63cb04d4b0499cdacdd6ae67259",
       "version_major": 2,
       "version_minor": 0
      },
      "text/plain": [
       "  0%|          | 0/28481 [00:00<?, ?it/s]"
      ]
     },
     "metadata": {},
     "output_type": "display_data"
    },
    {
     "name": "stdout",
     "output_type": "stream",
     "text": [
      "Epoch [9/20]: Train loss: 0.392261256263,        Valid loss: 0.387429782502\n"
     ]
    },
    {
     "data": {
      "application/vnd.jupyter.widget-view+json": {
       "model_id": "d3dc477bd3d0419382f1849418464ff2",
       "version_major": 2,
       "version_minor": 0
      },
      "text/plain": [
       "  0%|          | 0/28481 [00:00<?, ?it/s]"
      ]
     },
     "metadata": {},
     "output_type": "display_data"
    },
    {
     "name": "stdout",
     "output_type": "stream",
     "text": [
      "Epoch [10/20]: Train loss: 0.386886720583,        Valid loss: 0.369153548934\n"
     ]
    },
    {
     "data": {
      "application/vnd.jupyter.widget-view+json": {
       "model_id": "525a43fb598f46c6bfc5101c43831820",
       "version_major": 2,
       "version_minor": 0
      },
      "text/plain": [
       "  0%|          | 0/28481 [00:00<?, ?it/s]"
      ]
     },
     "metadata": {},
     "output_type": "display_data"
    },
    {
     "name": "stdout",
     "output_type": "stream",
     "text": [
      "Epoch [11/20]: Train loss: 0.383371204172,        Valid loss: 0.387869866812\n"
     ]
    },
    {
     "data": {
      "application/vnd.jupyter.widget-view+json": {
       "model_id": "70c5c2466b2e4da78558d6eb409c3c9c",
       "version_major": 2,
       "version_minor": 0
      },
      "text/plain": [
       "  0%|          | 0/28481 [00:00<?, ?it/s]"
      ]
     },
     "metadata": {},
     "output_type": "display_data"
    },
    {
     "name": "stdout",
     "output_type": "stream",
     "text": [
      "Epoch [12/20]: Train loss: 0.381656770701,        Valid loss: 0.426675253347\n"
     ]
    },
    {
     "data": {
      "application/vnd.jupyter.widget-view+json": {
       "model_id": "ac3b9af0e7794067a930403bba46e528",
       "version_major": 2,
       "version_minor": 0
      },
      "text/plain": [
       "  0%|          | 0/28481 [00:00<?, ?it/s]"
      ]
     },
     "metadata": {},
     "output_type": "display_data"
    },
    {
     "name": "stdout",
     "output_type": "stream",
     "text": [
      "Epoch [13/20]: Train loss: 0.377485246694,        Valid loss: 0.343547414053\n",
      "Saving model with loss 0.343547414053...\n"
     ]
    },
    {
     "data": {
      "application/vnd.jupyter.widget-view+json": {
       "model_id": "e0617a3b72944d7093705cd94a459ebd",
       "version_major": 2,
       "version_minor": 0
      },
      "text/plain": [
       "  0%|          | 0/28481 [00:00<?, ?it/s]"
      ]
     },
     "metadata": {},
     "output_type": "display_data"
    },
    {
     "name": "stdout",
     "output_type": "stream",
     "text": [
      "Epoch [14/20]: Train loss: 0.375508289673,        Valid loss: 0.501640646083\n"
     ]
    },
    {
     "data": {
      "application/vnd.jupyter.widget-view+json": {
       "model_id": "3fd3a7edd62547e8b6b4473c0ae13368",
       "version_major": 2,
       "version_minor": 0
      },
      "text/plain": [
       "  0%|          | 0/28481 [00:00<?, ?it/s]"
      ]
     },
     "metadata": {},
     "output_type": "display_data"
    },
    {
     "name": "stdout",
     "output_type": "stream",
     "text": [
      "Epoch [15/20]: Train loss: 0.373215579935,        Valid loss: 0.449719242083\n"
     ]
    },
    {
     "data": {
      "application/vnd.jupyter.widget-view+json": {
       "model_id": "98e075cc2e0642628c7e7f00045369d3",
       "version_major": 2,
       "version_minor": 0
      },
      "text/plain": [
       "  0%|          | 0/28481 [00:00<?, ?it/s]"
      ]
     },
     "metadata": {},
     "output_type": "display_data"
    },
    {
     "name": "stdout",
     "output_type": "stream",
     "text": [
      "Epoch [16/20]: Train loss: 0.371080526570,        Valid loss: 0.378652101839\n"
     ]
    },
    {
     "data": {
      "application/vnd.jupyter.widget-view+json": {
       "model_id": "01a10a742d3c49e2ac369b9c3e4cb4e3",
       "version_major": 2,
       "version_minor": 0
      },
      "text/plain": [
       "  0%|          | 0/28481 [00:00<?, ?it/s]"
      ]
     },
     "metadata": {},
     "output_type": "display_data"
    },
    {
     "name": "stdout",
     "output_type": "stream",
     "text": [
      "Epoch [17/20]: Train loss: 0.369420513750,        Valid loss: 0.398124606315\n"
     ]
    },
    {
     "data": {
      "application/vnd.jupyter.widget-view+json": {
       "model_id": "545543b30d084368ac899aab71602e40",
       "version_major": 2,
       "version_minor": 0
      },
      "text/plain": [
       "  0%|          | 0/28481 [00:00<?, ?it/s]"
      ]
     },
     "metadata": {},
     "output_type": "display_data"
    },
    {
     "name": "stdout",
     "output_type": "stream",
     "text": [
      "Epoch [18/20]: Train loss: 0.367354022687,        Valid loss: 0.378554240871\n"
     ]
    },
    {
     "data": {
      "application/vnd.jupyter.widget-view+json": {
       "model_id": "2a3f8aad8ab543269465bc0c42ec5701",
       "version_major": 2,
       "version_minor": 0
      },
      "text/plain": [
       "  0%|          | 0/28481 [00:00<?, ?it/s]"
      ]
     },
     "metadata": {},
     "output_type": "display_data"
    },
    {
     "name": "stdout",
     "output_type": "stream",
     "text": [
      "Epoch [19/20]: Train loss: 0.366005352280,        Valid loss: 0.338921277599\n",
      "Saving model with loss 0.338921277599...\n"
     ]
    },
    {
     "data": {
      "application/vnd.jupyter.widget-view+json": {
       "model_id": "a99bd146f0084abeb6c32d0c7739867e",
       "version_major": 2,
       "version_minor": 0
      },
      "text/plain": [
       "  0%|          | 0/28481 [00:00<?, ?it/s]"
      ]
     },
     "metadata": {},
     "output_type": "display_data"
    },
    {
     "name": "stdout",
     "output_type": "stream",
     "text": [
      "Epoch [20/20]: Train loss: 0.365565723909,        Valid loss: 0.400238114384\n"
     ]
    },
    {
     "data": {
      "image/png": "[encoded data removed]",
      "text/plain": [
       "<Figure size 640x480 with 1 Axes>"
      ]
     },
     "metadata": {},
     "output_type": "display_data"
    },
    {
     "name": "stdout",
     "output_type": "stream",
     "text": [
      "testing...\n"
     ]
    },
    {
     "data": {
      "application/vnd.jupyter.widget-view+json": {
       "model_id": "c4ffc065b4c44daca97d8f8711a00d81",
       "version_major": 2,
       "version_minor": 0
      },
      "text/plain": [
       "  0%|          | 0/253158 [00:00<?, ?it/s]"
      ]
     },
     "metadata": {},
     "output_type": "display_data"
    },
    {
     "name": "stdout",
     "output_type": "stream",
     "text": [
      " Fold: 2/5 R2 = 71.94 , RMSE = 0.000338\n",
      "Fold: 3 /5\n",
      "training...\n"
     ]
    },
    {
     "data": {
      "application/vnd.jupyter.widget-view+json": {
       "model_id": "72e1624b9e0b4ae0b07e18c48464addc",
       "version_major": 2,
       "version_minor": 0
      },
      "text/plain": [
       "  0%|          | 0/28481 [00:00<?, ?it/s]"
      ]
     },
     "metadata": {},
     "output_type": "display_data"
    },
    {
     "name": "stdout",
     "output_type": "stream",
     "text": [
      "Epoch [1/20]: Train loss: 0.877760104801,        Valid loss: 0.562150061103\n",
      "Saving model with loss 0.562150061103...\n"
     ]
    },
    {
     "data": {
      "application/vnd.jupyter.widget-view+json": {
       "model_id": "290b9ceb560f41f8a76f5ab4b10168ee",
       "version_major": 2,
       "version_minor": 0
      },
      "text/plain": [
       "  0%|          | 0/28481 [00:00<?, ?it/s]"
      ]
     },
     "metadata": {},
     "output_type": "display_data"
    },
    {
     "name": "stdout",
     "output_type": "stream",
     "text": [
      "Epoch [2/20]: Train loss: 0.471442552197,        Valid loss: 0.465988680394\n",
      "Saving model with loss 0.465988680394...\n"
     ]
    },
    {
     "data": {
      "application/vnd.jupyter.widget-view+json": {
       "model_id": "24e4792896964ef58c3434b364a671a0",
       "version_major": 2,
       "version_minor": 0
      },
      "text/plain": [
       "  0%|          | 0/28481 [00:00<?, ?it/s]"
      ]
     },
     "metadata": {},
     "output_type": "display_data"
    },
    {
     "name": "stdout",
     "output_type": "stream",
     "text": [
      "Epoch [3/20]: Train loss: 0.441634735247,        Valid loss: 0.417345868250\n",
      "Saving model with loss 0.417345868250...\n"
     ]
    },
    {
     "data": {
      "application/vnd.jupyter.widget-view+json": {
       "model_id": "29203d5eb08341b48091d98d8692938b",
       "version_major": 2,
       "version_minor": 0
      },
      "text/plain": [
       "  0%|          | 0/28481 [00:00<?, ?it/s]"
      ]
     },
     "metadata": {},
     "output_type": "display_data"
    },
    {
     "name": "stdout",
     "output_type": "stream",
     "text": [
      "Epoch [4/20]: Train loss: 0.422264588305,        Valid loss: 0.402868358687\n",
      "Saving model with loss 0.402868358687...\n"
     ]
    },
    {
     "data": {
      "application/vnd.jupyter.widget-view+json": {
       "model_id": "4e10194f5e4f4026947590da492d45d2",
       "version_major": 2,
       "version_minor": 0
      },
      "text/plain": [
       "  0%|          | 0/28481 [00:00<?, ?it/s]"
      ]
     },
     "metadata": {},
     "output_type": "display_data"
    },
    {
     "name": "stdout",
     "output_type": "stream",
     "text": [
      "Epoch [5/20]: Train loss: 0.412892249396,        Valid loss: 0.420662904971\n"
     ]
    },
    {
     "data": {
      "application/vnd.jupyter.widget-view+json": {
       "model_id": "4e9799ff0b4e471fa7917ec33b6a2809",
       "version_major": 2,
       "version_minor": 0
      },
      "text/plain": [
       "  0%|          | 0/28481 [00:00<?, ?it/s]"
      ]
     },
     "metadata": {},
     "output_type": "display_data"
    },
    {
     "name": "stdout",
     "output_type": "stream",
     "text": [
      "Epoch [6/20]: Train loss: 0.403607981454,        Valid loss: 0.385731122205\n",
      "Saving model with loss 0.385731122205...\n"
     ]
    },
    {
     "data": {
      "application/vnd.jupyter.widget-view+json": {
       "model_id": "9ac03726b12f413bbd163e1807a779ad",
       "version_major": 2,
       "version_minor": 0
      },
      "text/plain": [
       "  0%|          | 0/28481 [00:00<?, ?it/s]"
      ]
     },
     "metadata": {},
     "output_type": "display_data"
    },
    {
     "name": "stdout",
     "output_type": "stream",
     "text": [
      "Epoch [7/20]: Train loss: 0.396775318744,        Valid loss: 0.403798898463\n"
     ]
    },
    {
     "data": {
      "application/vnd.jupyter.widget-view+json": {
       "model_id": "3b02308b5e2c4d508cdebfa32e112487",
       "version_major": 2,
       "version_minor": 0
      },
      "text/plain": [
       "  0%|          | 0/28481 [00:00<?, ?it/s]"
      ]
     },
     "metadata": {},
     "output_type": "display_data"
    },
    {
     "name": "stdout",
     "output_type": "stream",
     "text": [
      "Epoch [8/20]: Train loss: 0.391333594972,        Valid loss: 0.393021981437\n"
     ]
    },
    {
     "data": {
      "application/vnd.jupyter.widget-view+json": {
       "model_id": "47dea3dad4514bfea04539e0ed1b34dc",
       "version_major": 2,
       "version_minor": 0
      },
      "text/plain": [
       "  0%|          | 0/28481 [00:00<?, ?it/s]"
      ]
     },
     "metadata": {},
     "output_type": "display_data"
    },
    {
     "name": "stdout",
     "output_type": "stream",
     "text": [
      "Epoch [9/20]: Train loss: 0.385392105613,        Valid loss: 0.353310004987\n",
      "Saving model with loss 0.353310004987...\n"
     ]
    },
    {
     "data": {
      "application/vnd.jupyter.widget-view+json": {
       "model_id": "551fe0d8b31e4a628e924d46e87a7c04",
       "version_major": 2,
       "version_minor": 0
      },
      "text/plain": [
       "  0%|          | 0/28481 [00:00<?, ?it/s]"
      ]
     },
     "metadata": {},
     "output_type": "display_data"
    },
    {
     "name": "stdout",
     "output_type": "stream",
     "text": [
      "Epoch [10/20]: Train loss: 0.383414440554,        Valid loss: 0.382487092129\n"
     ]
    },
    {
     "data": {
      "application/vnd.jupyter.widget-view+json": {
       "model_id": "033e67f9bd584f469f3b3015942d3b13",
       "version_major": 2,
       "version_minor": 0
      },
      "text/plain": [
       "  0%|          | 0/28481 [00:00<?, ?it/s]"
      ]
     },
     "metadata": {},
     "output_type": "display_data"
    },
    {
     "name": "stdout",
     "output_type": "stream",
     "text": [
      "Epoch [11/20]: Train loss: 0.378227201600,        Valid loss: 0.380697418454\n"
     ]
    },
    {
     "data": {
      "application/vnd.jupyter.widget-view+json": {
       "model_id": "c11e93ad155c45808f190745df6ec099",
       "version_major": 2,
       "version_minor": 0
      },
      "text/plain": [
       "  0%|          | 0/28481 [00:00<?, ?it/s]"
      ]
     },
     "metadata": {},
     "output_type": "display_data"
    },
    {
     "name": "stdout",
     "output_type": "stream",
     "text": [
      "Epoch [12/20]: Train loss: 0.374332752330,        Valid loss: 0.378071270808\n"
     ]
    },
    {
     "data": {
      "application/vnd.jupyter.widget-view+json": {
       "model_id": "e138f5a8c1bc4d1cb34cea9d9c9942c5",
       "version_major": 2,
       "version_minor": 0
      },
      "text/plain": [
       "  0%|          | 0/28481 [00:00<?, ?it/s]"
      ]
     },
     "metadata": {},
     "output_type": "display_data"
    },
    {
     "name": "stdout",
     "output_type": "stream",
     "text": [
      "Epoch [13/20]: Train loss: 0.372149817713,        Valid loss: 0.385859638593\n"
     ]
    },
    {
     "data": {
      "application/vnd.jupyter.widget-view+json": {
       "model_id": "872d608cfae94eb4848d6881ec8eef1d",
       "version_major": 2,
       "version_minor": 0
      },
      "text/plain": [
       "  0%|          | 0/28481 [00:00<?, ?it/s]"
      ]
     },
     "metadata": {},
     "output_type": "display_data"
    },
    {
     "name": "stdout",
     "output_type": "stream",
     "text": [
      "Epoch [14/20]: Train loss: 0.370976330150,        Valid loss: 0.352610425659\n",
      "Saving model with loss 0.352610425659...\n"
     ]
    },
    {
     "data": {
      "application/vnd.jupyter.widget-view+json": {
       "model_id": "01bb6aeeddf74028a1b60eb1fb52e69c",
       "version_major": 2,
       "version_minor": 0
      },
      "text/plain": [
       "  0%|          | 0/28481 [00:00<?, ?it/s]"
      ]
     },
     "metadata": {},
     "output_type": "display_data"
    },
    {
     "name": "stdout",
     "output_type": "stream",
     "text": [
      "Epoch [15/20]: Train loss: 0.369374462409,        Valid loss: 0.409859545485\n"
     ]
    },
    {
     "data": {
      "application/vnd.jupyter.widget-view+json": {
       "model_id": "24f1fe5ff77344ce8834b6174f25c575",
       "version_major": 2,
       "version_minor": 0
      },
      "text/plain": [
       "  0%|          | 0/28481 [00:00<?, ?it/s]"
      ]
     },
     "metadata": {},
     "output_type": "display_data"
    },
    {
     "name": "stdout",
     "output_type": "stream",
     "text": [
      "Epoch [16/20]: Train loss: 0.366491178708,        Valid loss: 0.410628901716\n"
     ]
    },
    {
     "data": {
      "application/vnd.jupyter.widget-view+json": {
       "model_id": "866cd0ea39204f0981af4679318aa437",
       "version_major": 2,
       "version_minor": 0
      },
      "text/plain": [
       "  0%|          | 0/28481 [00:00<?, ?it/s]"
      ]
     },
     "metadata": {},
     "output_type": "display_data"
    },
    {
     "name": "stdout",
     "output_type": "stream",
     "text": [
      "Epoch [17/20]: Train loss: 0.364559734318,        Valid loss: 0.374508398586\n"
     ]
    },
    {
     "data": {
      "application/vnd.jupyter.widget-view+json": {
       "model_id": "868201b5084c4f9aab064f0f06aeeb7f",
       "version_major": 2,
       "version_minor": 0
      },
      "text/plain": [
       "  0%|          | 0/28481 [00:00<?, ?it/s]"
      ]
     },
     "metadata": {},
     "output_type": "display_data"
    },
    {
     "name": "stdout",
     "output_type": "stream",
     "text": [
      "Epoch [18/20]: Train loss: 0.363980293711,        Valid loss: 0.390855759874\n"
     ]
    },
    {
     "data": {
      "application/vnd.jupyter.widget-view+json": {
       "model_id": "6e4326cd55d2492fb41078cba114ae91",
       "version_major": 2,
       "version_minor": 0
      },
      "text/plain": [
       "  0%|          | 0/28481 [00:00<?, ?it/s]"
      ]
     },
     "metadata": {},
     "output_type": "display_data"
    },
    {
     "name": "stdout",
     "output_type": "stream",
     "text": [
      "Epoch [19/20]: Train loss: 0.362305797771,        Valid loss: 0.336494078737\n",
      "Saving model with loss 0.336494078737...\n"
     ]
    },
    {
     "data": {
      "application/vnd.jupyter.widget-view+json": {
       "model_id": "4139eff89dff4dcda25c695a63d3184c",
       "version_major": 2,
       "version_minor": 0
      },
      "text/plain": [
       "  0%|          | 0/28481 [00:00<?, ?it/s]"
      ]
     },
     "metadata": {},
     "output_type": "display_data"
    },
    {
     "name": "stdout",
     "output_type": "stream",
     "text": [
      "Epoch [20/20]: Train loss: 0.362527681391,        Valid loss: 0.366948214854\n"
     ]
    },
    {
     "data": {
      "image/png": "[encoded data removed]",
      "text/plain": [
       "<Figure size 640x480 with 1 Axes>"
      ]
     },
     "metadata": {},
     "output_type": "display_data"
    },
    {
     "name": "stdout",
     "output_type": "stream",
     "text": [
      "testing...\n"
     ]
    },
    {
     "data": {
      "application/vnd.jupyter.widget-view+json": {
       "model_id": "9098813afafe4fc895769998bb7b262b",
       "version_major": 2,
       "version_minor": 0
      },
      "text/plain": [
       "  0%|          | 0/253158 [00:00<?, ?it/s]"
      ]
     },
     "metadata": {},
     "output_type": "display_data"
    },
    {
     "name": "stdout",
     "output_type": "stream",
     "text": [
      " Fold: 3/5 R2 = 72.46 , RMSE = 0.000335\n",
      "Fold: 4 /5\n",
      "training...\n"
     ]
    },
    {
     "data": {
      "application/vnd.jupyter.widget-view+json": {
       "model_id": "c78ce725f5e643d09e47c1dadc1c28ad",
       "version_major": 2,
       "version_minor": 0
      },
      "text/plain": [
       "  0%|          | 0/28481 [00:00<?, ?it/s]"
      ]
     },
     "metadata": {},
     "output_type": "display_data"
    },
    {
     "name": "stdout",
     "output_type": "stream",
     "text": [
      "Epoch [1/20]: Train loss: 0.874892555225,        Valid loss: 0.464583281920\n",
      "Saving model with loss 0.464583281920...\n"
     ]
    },
    {
     "data": {
      "application/vnd.jupyter.widget-view+json": {
       "model_id": "2e3e654be67241cebb30af74e2f006aa",
       "version_major": 2,
       "version_minor": 0
      },
      "text/plain": [
       "  0%|          | 0/28481 [00:00<?, ?it/s]"
      ]
     },
     "metadata": {},
     "output_type": "display_data"
    },
    {
     "name": "stdout",
     "output_type": "stream",
     "text": [
      "Epoch [2/20]: Train loss: 0.472404977798,        Valid loss: 0.408195865266\n",
      "Saving model with loss 0.408195865266...\n"
     ]
    },
    {
     "data": {
      "application/vnd.jupyter.widget-view+json": {
       "model_id": "afa4f33e23e24c17afdf8a85dd18eb97",
       "version_major": 2,
       "version_minor": 0
      },
      "text/plain": [
       "  0%|          | 0/28481 [00:00<?, ?it/s]"
      ]
     },
     "metadata": {},
     "output_type": "display_data"
    },
    {
     "name": "stdout",
     "output_type": "stream",
     "text": [
      "Epoch [3/20]: Train loss: 0.444435940987,        Valid loss: 0.397147830072\n",
      "Saving model with loss 0.397147830072...\n"
     ]
    },
    {
     "data": {
      "application/vnd.jupyter.widget-view+json": {
       "model_id": "652d4e5c7a454befac042449b1da7aac",
       "version_major": 2,
       "version_minor": 0
      },
      "text/plain": [
       "  0%|          | 0/28481 [00:00<?, ?it/s]"
      ]
     },
     "metadata": {},
     "output_type": "display_data"
    },
    {
     "name": "stdout",
     "output_type": "stream",
     "text": [
      "Epoch [4/20]: Train loss: 0.426518328800,        Valid loss: 0.385835557260\n",
      "Saving model with loss 0.385835557260...\n"
     ]
    },
    {
     "data": {
      "application/vnd.jupyter.widget-view+json": {
       "model_id": "0b4e4a24f1c94d468325724449f64afd",
       "version_major": 2,
       "version_minor": 0
      },
      "text/plain": [
       "  0%|          | 0/28481 [00:00<?, ?it/s]"
      ]
     },
     "metadata": {},
     "output_type": "display_data"
    },
    {
     "name": "stdout",
     "output_type": "stream",
     "text": [
      "Epoch [5/20]: Train loss: 0.412898605326,        Valid loss: 0.383370679718\n",
      "Saving model with loss 0.383370679718...\n"
     ]
    },
    {
     "data": {
      "application/vnd.jupyter.widget-view+json": {
       "model_id": "fecc0964792e46098bf7f37691dbed67",
       "version_major": 2,
       "version_minor": 0
      },
      "text/plain": [
       "  0%|          | 0/28481 [00:00<?, ?it/s]"
      ]
     },
     "metadata": {},
     "output_type": "display_data"
    },
    {
     "name": "stdout",
     "output_type": "stream",
     "text": [
      "Epoch [6/20]: Train loss: 0.405807606340,        Valid loss: 0.388544594277\n"
     ]
    },
    {
     "data": {
      "application/vnd.jupyter.widget-view+json": {
       "model_id": "9917d2284ba64677abe757f1691d21d6",
       "version_major": 2,
       "version_minor": 0
      },
      "text/plain": [
       "  0%|          | 0/28481 [00:00<?, ?it/s]"
      ]
     },
     "metadata": {},
     "output_type": "display_data"
    },
    {
     "name": "stdout",
     "output_type": "stream",
     "text": [
      "Epoch [7/20]: Train loss: 0.400213137941,        Valid loss: 0.383755018192\n"
     ]
    },
    {
     "data": {
      "application/vnd.jupyter.widget-view+json": {
       "model_id": "97eda7920fcc440fa4c2a52e740025ec",
       "version_major": 2,
       "version_minor": 0
      },
      "text/plain": [
       "  0%|          | 0/28481 [00:00<?, ?it/s]"
      ]
     },
     "metadata": {},
     "output_type": "display_data"
    },
    {
     "name": "stdout",
     "output_type": "stream",
     "text": [
      "Epoch [8/20]: Train loss: 0.397214483129,        Valid loss: 0.379246438528\n",
      "Saving model with loss 0.379246438528...\n"
     ]
    },
    {
     "data": {
      "application/vnd.jupyter.widget-view+json": {
       "model_id": "ba503b72a2044bd39991b1b64e01a952",
       "version_major": 2,
       "version_minor": 0
      },
      "text/plain": [
       "  0%|          | 0/28481 [00:00<?, ?it/s]"
      ]
     },
     "metadata": {},
     "output_type": "display_data"
    },
    {
     "name": "stdout",
     "output_type": "stream",
     "text": [
      "Epoch [9/20]: Train loss: 0.394212606450,        Valid loss: 0.371686078888\n",
      "Saving model with loss 0.371686078888...\n"
     ]
    },
    {
     "data": {
      "application/vnd.jupyter.widget-view+json": {
       "model_id": "ea1fbd5aaca148afbccfe31534419a6c",
       "version_major": 2,
       "version_minor": 0
      },
      "text/plain": [
       "  0%|          | 0/28481 [00:00<?, ?it/s]"
      ]
     },
     "metadata": {},
     "output_type": "display_data"
    },
    {
     "name": "stdout",
     "output_type": "stream",
     "text": [
      "Epoch [10/20]: Train loss: 0.387307127935,        Valid loss: 0.412973245445\n"
     ]
    },
    {
     "data": {
      "application/vnd.jupyter.widget-view+json": {
       "model_id": "b69764e6c4114898b98a09115ec25aec",
       "version_major": 2,
       "version_minor": 0
      },
      "text/plain": [
       "  0%|          | 0/28481 [00:00<?, ?it/s]"
      ]
     },
     "metadata": {},
     "output_type": "display_data"
    },
    {
     "name": "stdout",
     "output_type": "stream",
     "text": [
      "Epoch [11/20]: Train loss: 0.386337618597,        Valid loss: 0.357608975474\n",
      "Saving model with loss 0.357608975474...\n"
     ]
    },
    {
     "data": {
      "application/vnd.jupyter.widget-view+json": {
       "model_id": "995f882536144c21964a4495cac03f67",
       "version_major": 2,
       "version_minor": 0
      },
      "text/plain": [
       "  0%|          | 0/28481 [00:00<?, ?it/s]"
      ]
     },
     "metadata": {},
     "output_type": "display_data"
    },
    {
     "name": "stdout",
     "output_type": "stream",
     "text": [
      "Epoch [12/20]: Train loss: 0.383257623223,        Valid loss: 0.355327911919\n",
      "Saving model with loss 0.355327911919...\n"
     ]
    },
    {
     "data": {
      "application/vnd.jupyter.widget-view+json": {
       "model_id": "280efd2fc70e49ad82ca95d3cc94f082",
       "version_major": 2,
       "version_minor": 0
      },
      "text/plain": [
       "  0%|          | 0/28481 [00:00<?, ?it/s]"
      ]
     },
     "metadata": {},
     "output_type": "display_data"
    },
    {
     "name": "stdout",
     "output_type": "stream",
     "text": [
      "Epoch [13/20]: Train loss: 0.380345536307,        Valid loss: 0.395482054152\n"
     ]
    },
    {
     "data": {
      "application/vnd.jupyter.widget-view+json": {
       "model_id": "2f949c29a5f64cd08337037852e7e911",
       "version_major": 2,
       "version_minor": 0
      },
      "text/plain": [
       "  0%|          | 0/28481 [00:00<?, ?it/s]"
      ]
     },
     "metadata": {},
     "output_type": "display_data"
    },
    {
     "name": "stdout",
     "output_type": "stream",
     "text": [
      "Epoch [14/20]: Train loss: 0.379934211858,        Valid loss: 0.379909931646\n"
     ]
    },
    {
     "data": {
      "application/vnd.jupyter.widget-view+json": {
       "model_id": "a939151e32084bfd9f5eb7486e82c10c",
       "version_major": 2,
       "version_minor": 0
      },
      "text/plain": [
       "  0%|          | 0/28481 [00:00<?, ?it/s]"
      ]
     },
     "metadata": {},
     "output_type": "display_data"
    },
    {
     "name": "stdout",
     "output_type": "stream",
     "text": [
      "Epoch [15/20]: Train loss: 0.375282809319,        Valid loss: 0.386196540442\n"
     ]
    },
    {
     "data": {
      "application/vnd.jupyter.widget-view+json": {
       "model_id": "ffa5494c104841db87661b47048d806e",
       "version_major": 2,
       "version_minor": 0
      },
      "text/plain": [
       "  0%|          | 0/28481 [00:00<?, ?it/s]"
      ]
     },
     "metadata": {},
     "output_type": "display_data"
    },
    {
     "name": "stdout",
     "output_type": "stream",
     "text": [
      "Epoch [16/20]: Train loss: 0.376402055173,        Valid loss: 0.441294531882\n"
     ]
    },
    {
     "data": {
      "application/vnd.jupyter.widget-view+json": {
       "model_id": "675887c953414b6a8d4b85175605d4db",
       "version_major": 2,
       "version_minor": 0
      },
      "text/plain": [
       "  0%|          | 0/28481 [00:00<?, ?it/s]"
      ]
     },
     "metadata": {},
     "output_type": "display_data"
    },
    {
     "name": "stdout",
     "output_type": "stream",
     "text": [
      "Epoch [17/20]: Train loss: 0.373382360537,        Valid loss: 0.366951332221\n"
     ]
    },
    {
     "data": {
      "application/vnd.jupyter.widget-view+json": {
       "model_id": "f5c62f4b9c9f4fd792596550f8078657",
       "version_major": 2,
       "version_minor": 0
      },
      "text/plain": [
       "  0%|          | 0/28481 [00:00<?, ?it/s]"
      ]
     },
     "metadata": {},
     "output_type": "display_data"
    },
    {
     "name": "stdout",
     "output_type": "stream",
     "text": [
      "Epoch [18/20]: Train loss: 0.372068746877,        Valid loss: 0.344424955302\n",
      "Saving model with loss 0.344424955302...\n"
     ]
    },
    {
     "data": {
      "application/vnd.jupyter.widget-view+json": {
       "model_id": "91d339333a194024afe6e0d25e887aad",
       "version_major": 2,
       "version_minor": 0
      },
      "text/plain": [
       "  0%|          | 0/28481 [00:00<?, ?it/s]"
      ]
     },
     "metadata": {},
     "output_type": "display_data"
    },
    {
     "name": "stdout",
     "output_type": "stream",
     "text": [
      "Epoch [19/20]: Train loss: 0.370703416329,        Valid loss: 0.352430097694\n"
     ]
    },
    {
     "data": {
      "application/vnd.jupyter.widget-view+json": {
       "model_id": "8bfbfd6f07184c40b921f481c1c70924",
       "version_major": 2,
       "version_minor": 0
      },
      "text/plain": [
       "  0%|          | 0/28481 [00:00<?, ?it/s]"
      ]
     },
     "metadata": {},
     "output_type": "display_data"
    },
    {
     "name": "stdout",
     "output_type": "stream",
     "text": [
      "Epoch [20/20]: Train loss: 0.369904241935,        Valid loss: 0.342267787002\n",
      "Saving model with loss 0.342267787002...\n"
     ]
    },
    {
     "data": {
      "image/png": "[encoded data removed]",
      "text/plain": [
       "<Figure size 640x480 with 1 Axes>"
      ]
     },
     "metadata": {},
     "output_type": "display_data"
    },
    {
     "name": "stdout",
     "output_type": "stream",
     "text": [
      "testing...\n"
     ]
    },
    {
     "data": {
      "application/vnd.jupyter.widget-view+json": {
       "model_id": "c5b08f23a53445febb36d5fb3f6e7f6a",
       "version_major": 2,
       "version_minor": 0
      },
      "text/plain": [
       "  0%|          | 0/253158 [00:00<?, ?it/s]"
      ]
     },
     "metadata": {},
     "output_type": "display_data"
    },
    {
     "name": "stdout",
     "output_type": "stream",
     "text": [
      " Fold: 4/5 R2 = 71.09 , RMSE = 0.000344\n",
      "Fold: 5 /5\n",
      "training...\n"
     ]
    },
    {
     "data": {
      "application/vnd.jupyter.widget-view+json": {
       "model_id": "cb7ec9985aec4a8480806a9b90c44e58",
       "version_major": 2,
       "version_minor": 0
      },
      "text/plain": [
       "  0%|          | 0/28481 [00:00<?, ?it/s]"
      ]
     },
     "metadata": {},
     "output_type": "display_data"
    },
    {
     "name": "stdout",
     "output_type": "stream",
     "text": [
      "Epoch [1/20]: Train loss: 0.874640365233,        Valid loss: 0.502560621453\n",
      "Saving model with loss 0.502560621453...\n"
     ]
    },
    {
     "data": {
      "application/vnd.jupyter.widget-view+json": {
       "model_id": "ef122c0f45944bdd853148f4fd5b0226",
       "version_major": 2,
       "version_minor": 0
      },
      "text/plain": [
       "  0%|          | 0/28481 [00:00<?, ?it/s]"
      ]
     },
     "metadata": {},
     "output_type": "display_data"
    },
    {
     "name": "stdout",
     "output_type": "stream",
     "text": [
      "Epoch [2/20]: Train loss: 0.477118234026,        Valid loss: 0.451056339982\n",
      "Saving model with loss 0.451056339982...\n"
     ]
    },
    {
     "data": {
      "application/vnd.jupyter.widget-view+json": {
       "model_id": "cedf01d6d250462b9bd8247bc4807f7a",
       "version_major": 2,
       "version_minor": 0
      },
      "text/plain": [
       "  0%|          | 0/28481 [00:00<?, ?it/s]"
      ]
     },
     "metadata": {},
     "output_type": "display_data"
    },
    {
     "name": "stdout",
     "output_type": "stream",
     "text": [
      "Epoch [3/20]: Train loss: 0.447715353479,        Valid loss: 0.434161674639\n",
      "Saving model with loss 0.434161674639...\n"
     ]
    },
    {
     "data": {
      "application/vnd.jupyter.widget-view+json": {
       "model_id": "2abd3c581397413d96f7c57f8b794a8b",
       "version_major": 2,
       "version_minor": 0
      },
      "text/plain": [
       "  0%|          | 0/28481 [00:00<?, ?it/s]"
      ]
     },
     "metadata": {},
     "output_type": "display_data"
    },
    {
     "name": "stdout",
     "output_type": "stream",
     "text": [
      "Epoch [4/20]: Train loss: 0.429639955155,        Valid loss: 0.422895593170\n",
      "Saving model with loss 0.422895593170...\n"
     ]
    },
    {
     "data": {
      "application/vnd.jupyter.widget-view+json": {
       "model_id": "da29fc1ea98e4337995add4cd59f02f8",
       "version_major": 2,
       "version_minor": 0
      },
      "text/plain": [
       "  0%|          | 0/28481 [00:00<?, ?it/s]"
      ]
     },
     "metadata": {},
     "output_type": "display_data"
    },
    {
     "name": "stdout",
     "output_type": "stream",
     "text": [
      "Epoch [5/20]: Train loss: 0.420139774759,        Valid loss: 0.455517702500\n"
     ]
    },
    {
     "data": {
      "application/vnd.jupyter.widget-view+json": {
       "model_id": "6466ef1e69624955ad59a183a2471acb",
       "version_major": 2,
       "version_minor": 0
      },
      "text/plain": [
       "  0%|          | 0/28481 [00:00<?, ?it/s]"
      ]
     },
     "metadata": {},
     "output_type": "display_data"
    },
    {
     "name": "stdout",
     "output_type": "stream",
     "text": [
      "Epoch [6/20]: Train loss: 0.412111508974,        Valid loss: 0.545596349667\n"
     ]
    },
    {
     "data": {
      "application/vnd.jupyter.widget-view+json": {
       "model_id": "0abec43a7f6f43ac9440f38312e4bdbc",
       "version_major": 2,
       "version_minor": 0
      },
      "text/plain": [
       "  0%|          | 0/28481 [00:00<?, ?it/s]"
      ]
     },
     "metadata": {},
     "output_type": "display_data"
    },
    {
     "name": "stdout",
     "output_type": "stream",
     "text": [
      "Epoch [7/20]: Train loss: 0.403737002522,        Valid loss: 0.385314123894\n",
      "Saving model with loss 0.385314123894...\n"
     ]
    },
    {
     "data": {
      "application/vnd.jupyter.widget-view+json": {
       "model_id": "81cbcbcec25641c48f0762d64e3a37ec",
       "version_major": 2,
       "version_minor": 0
      },
      "text/plain": [
       "  0%|          | 0/28481 [00:00<?, ?it/s]"
      ]
     },
     "metadata": {},
     "output_type": "display_data"
    },
    {
     "name": "stdout",
     "output_type": "stream",
     "text": [
      "Epoch [8/20]: Train loss: 0.399844610920,        Valid loss: 0.378245124350\n",
      "Saving model with loss 0.378245124350...\n"
     ]
    },
    {
     "data": {
      "application/vnd.jupyter.widget-view+json": {
       "model_id": "030af2ba33e34976a23339f609a8a56d",
       "version_major": 2,
       "version_minor": 0
      },
      "text/plain": [
       "  0%|          | 0/28481 [00:00<?, ?it/s]"
      ]
     },
     "metadata": {},
     "output_type": "display_data"
    },
    {
     "name": "stdout",
     "output_type": "stream",
     "text": [
      "Epoch [9/20]: Train loss: 0.394099493737,        Valid loss: 0.408344143821\n"
     ]
    },
    {
     "data": {
      "application/vnd.jupyter.widget-view+json": {
       "model_id": "3a40d7c43fcb4856be19cbe827f322da",
       "version_major": 2,
       "version_minor": 0
      },
      "text/plain": [
       "  0%|          | 0/28481 [00:00<?, ?it/s]"
      ]
     },
     "metadata": {},
     "output_type": "display_data"
    },
    {
     "name": "stdout",
     "output_type": "stream",
     "text": [
      "Epoch [10/20]: Train loss: 0.388887060775,        Valid loss: 0.359069500254\n",
      "Saving model with loss 0.359069500254...\n"
     ]
    },
    {
     "data": {
      "application/vnd.jupyter.widget-view+json": {
       "model_id": "52cedd53c8134e39bb68318ed55cfa52",
       "version_major": 2,
       "version_minor": 0
      },
      "text/plain": [
       "  0%|          | 0/28481 [00:00<?, ?it/s]"
      ]
     },
     "metadata": {},
     "output_type": "display_data"
    },
    {
     "name": "stdout",
     "output_type": "stream",
     "text": [
      "Epoch [11/20]: Train loss: 0.384879434944,        Valid loss: 0.361091728250\n"
     ]
    },
    {
     "data": {
      "application/vnd.jupyter.widget-view+json": {
       "model_id": "a0f95ced59564c69b83e1fdb8e2039f9",
       "version_major": 2,
       "version_minor": 0
      },
      "text/plain": [
       "  0%|          | 0/28481 [00:00<?, ?it/s]"
      ]
     },
     "metadata": {},
     "output_type": "display_data"
    },
    {
     "name": "stdout",
     "output_type": "stream",
     "text": [
      "Epoch [12/20]: Train loss: 0.379907914947,        Valid loss: 0.349652007352\n",
      "Saving model with loss 0.349652007352...\n"
     ]
    },
    {
     "data": {
      "application/vnd.jupyter.widget-view+json": {
       "model_id": "8bedbf25faf4441083ecc7ae8fea5abc",
       "version_major": 2,
       "version_minor": 0
      },
      "text/plain": [
       "  0%|          | 0/28481 [00:00<?, ?it/s]"
      ]
     },
     "metadata": {},
     "output_type": "display_data"
    },
    {
     "name": "stdout",
     "output_type": "stream",
     "text": [
      "Epoch [13/20]: Train loss: 0.379813722444,        Valid loss: 0.370751339786\n"
     ]
    },
    {
     "data": {
      "application/vnd.jupyter.widget-view+json": {
       "model_id": "5f01ee4c21264457958b598007b64e39",
       "version_major": 2,
       "version_minor": 0
      },
      "text/plain": [
       "  0%|          | 0/28481 [00:00<?, ?it/s]"
      ]
     },
     "metadata": {},
     "output_type": "display_data"
    },
    {
     "name": "stdout",
     "output_type": "stream",
     "text": [
      "Epoch [14/20]: Train loss: 0.377036188220,        Valid loss: 0.351385608411\n"
     ]
    },
    {
     "data": {
      "application/vnd.jupyter.widget-view+json": {
       "model_id": "c8c13fb90ead4ae2ac729251adf56381",
       "version_major": 2,
       "version_minor": 0
      },
      "text/plain": [
       "  0%|          | 0/28481 [00:00<?, ?it/s]"
      ]
     },
     "metadata": {},
     "output_type": "display_data"
    },
    {
     "name": "stdout",
     "output_type": "stream",
     "text": [
      "Epoch [15/20]: Train loss: 0.373524224465,        Valid loss: 0.356336311790\n"
     ]
    },
    {
     "data": {
      "application/vnd.jupyter.widget-view+json": {
       "model_id": "53bde8e1691a4f92a363b411fe183a2d",
       "version_major": 2,
       "version_minor": 0
      },
      "text/plain": [
       "  0%|          | 0/28481 [00:00<?, ?it/s]"
      ]
     },
     "metadata": {},
     "output_type": "display_data"
    },
    {
     "name": "stdout",
     "output_type": "stream",
     "text": [
      "Epoch [16/20]: Train loss: 0.370745217038,        Valid loss: 0.345019113158\n",
      "Saving model with loss 0.345019113158...\n"
     ]
    },
    {
     "data": {
      "application/vnd.jupyter.widget-view+json": {
       "model_id": "5637afa9616142bd9151e66bd543e07d",
       "version_major": 2,
       "version_minor": 0
      },
      "text/plain": [
       "  0%|          | 0/28481 [00:00<?, ?it/s]"
      ]
     },
     "metadata": {},
     "output_type": "display_data"
    },
    {
     "name": "stdout",
     "output_type": "stream",
     "text": [
      "Epoch [17/20]: Train loss: 0.367705226609,        Valid loss: 0.400129986900\n"
     ]
    },
    {
     "data": {
      "application/vnd.jupyter.widget-view+json": {
       "model_id": "686eb5ad14a646cf8cc7ed9cb4ad2093",
       "version_major": 2,
       "version_minor": 0
      },
      "text/plain": [
       "  0%|          | 0/28481 [00:00<?, ?it/s]"
      ]
     },
     "metadata": {},
     "output_type": "display_data"
    },
    {
     "name": "stdout",
     "output_type": "stream",
     "text": [
      "Epoch [18/20]: Train loss: 0.367813162210,        Valid loss: 0.411191545047\n"
     ]
    },
    {
     "data": {
      "application/vnd.jupyter.widget-view+json": {
       "model_id": "fc1ca5e77c0945b59f5014a46766dca2",
       "version_major": 2,
       "version_minor": 0
      },
      "text/plain": [
       "  0%|          | 0/28481 [00:00<?, ?it/s]"
      ]
     },
     "metadata": {},
     "output_type": "display_data"
    },
    {
     "name": "stdout",
     "output_type": "stream",
     "text": [
      "Epoch [19/20]: Train loss: 0.366676336573,        Valid loss: 0.345879441459\n"
     ]
    },
    {
     "data": {
      "application/vnd.jupyter.widget-view+json": {
       "model_id": "9ae49255421a4a60b9f47190bbb48999",
       "version_major": 2,
       "version_minor": 0
      },
      "text/plain": [
       "  0%|          | 0/28481 [00:00<?, ?it/s]"
      ]
     },
     "metadata": {},
     "output_type": "display_data"
    },
    {
     "name": "stdout",
     "output_type": "stream",
     "text": [
      "Epoch [20/20]: Train loss: 0.365382667355,        Valid loss: 0.340908150547\n",
      "Saving model with loss 0.340908150547...\n"
     ]
    },
    {
     "data": {
      "image/png": "[encoded data removed]",
      "text/plain": [
       "<Figure size 640x480 with 1 Axes>"
      ]
     },
     "metadata": {},
     "output_type": "display_data"
    },
    {
     "name": "stdout",
     "output_type": "stream",
     "text": [
      "testing...\n"
     ]
    },
    {
     "data": {
      "application/vnd.jupyter.widget-view+json": {
       "model_id": "26c81bc7181a41299e7ee597be372ead",
       "version_major": 2,
       "version_minor": 0
      },
      "text/plain": [
       "  0%|          | 0/253158 [00:00<?, ?it/s]"
      ]
     },
     "metadata": {},
     "output_type": "display_data"
    },
    {
     "name": "stdout",
     "output_type": "stream",
     "text": [
      " Fold: 5/5 R2 = 71.13 , RMSE = 0.000343\n",
      "list_train:[[0.8761885859337197, 0.474832078487285, 0.44615861473432483, 0.42737877786015555, 0.41786005154801314, 0.41299047675141143, 0.4054171262519599, 0.4000360511586924, 0.39492080955333014, 0.3867153382053241, 0.38235514388279807, 0.37975006513160864, 0.37629002443961057, 0.37539326510353266, 0.3722005183995819, 0.37127777547001184, 0.36921051245824066, 0.3686811588777778, 0.366484722811972, 0.36699540216783494], [0.8865502201998746, 0.47335713049048617, 0.4455447234356229, 0.43110498811038556, 0.41654598354710265, 0.41128686099466194, 0.4017142008657129, 0.399004887456003, 0.3922612562628174, 0.38688672058272416, 0.38337120417207954, 0.3816567707011264, 0.3774852466944926, 0.3755082896734011, 0.37321557993459087, 0.37108052656981966, 0.3694205137497325, 0.3673540226865346, 0.366005352280258, 0.3655657239085039], [0.8777601048010999, 0.4714425521973157, 0.44163473524721863, 0.4222645883049527, 0.41289224939604874, 0.4036079814544711, 0.3967753187437221, 0.39133359497195297, 0.38539210561264653, 0.38341444055372614, 0.37822720160014695, 0.37433275232974234, 0.37214981771317956, 0.3709763301504302, 0.36937446240891736, 0.36649117870809916, 0.3645597343183264, 0.3639802937108498, 0.36230579777117267, 0.3625276813909106], [0.8748925552248028, 0.47240497779821783, 0.44443594098707667, 0.42651832879950347, 0.41289860532559797, 0.40580760633960206, 0.40021313794125685, 0.3972144831290157, 0.39421260645030537, 0.3873071279347067, 0.38633761859744337, 0.3832576232230359, 0.38034553630676265, 0.37993421185804216, 0.3752828093191567, 0.37640205517288455, 0.3733823605372481, 0.3720687468769078, 0.37070341632852144, 0.3699042419346726], [0.8746403652331339, 0.4771182340259608, 0.4477153534788402, 0.42963995515528675, 0.42013977475910463, 0.41211150897364285, 0.4037370025216146, 0.39984461091965556, 0.39409949373741826, 0.38888706077496743, 0.38487943494410215, 0.3799079149466752, 0.37981372244443323, 0.37703618821971757, 0.3735242244648339, 0.3707452170380015, 0.36770522660925403, 0.36781316221000493, 0.366676336573163, 0.36538266735466196]]\n",
      "list_valid:[[0.44513957594380366, 0.41864229654760576, 0.4205530344602837, 0.5900550459469424, 0.4542129920280985, 0.38810814496966356, 0.4153620014804204, 0.3849368982395659, 0.36911433157320456, 0.36040624212812483, 0.35646204275930404, 0.4043607794011289, 0.3916173462985833, 0.3449516434501845, 0.38263274604524394, 0.37089161302283324, 0.4002039603131855, 0.3560466374526095, 0.36546168940552437, 0.34522588905475926], [0.5010985462855921, 0.4487346492487525, 0.43897621703878337, 0.4098786847058945, 0.4009305146586418, 0.4182396828888915, 0.535856991562494, 0.36056020450770243, 0.38742978250208215, 0.3691535489338264, 0.3878698668118999, 0.4266752533470946, 0.3435474140528457, 0.5016406460830388, 0.44971924208340797, 0.3786521018391229, 0.3981246063148156, 0.3785542408709255, 0.3389212775985499, 0.40023811438395795], [0.5621500611033825, 0.46598868039448327, 0.4173458682496642, 0.40286835868744547, 0.4206629049707882, 0.3857311222046578, 0.40379889846278655, 0.39302198143725314, 0.35331000498682713, 0.3824870921286498, 0.38069741845411303, 0.3780712708083648, 0.3858596385925681, 0.3526104256585121, 0.4098595454847116, 0.4106289017161177, 0.3745083985855783, 0.3908557598738672, 0.33649407873700526, 0.3669482148540431], [0.4645832819195738, 0.408195865266223, 0.3971478300721792, 0.3858355572601977, 0.38337067971751415, 0.3885445942773191, 0.38375501819204116, 0.37924643852797774, 0.3716860788875481, 0.4129732454452902, 0.35760897547371473, 0.35532791191855967, 0.39548205415182197, 0.3799099316464919, 0.38619654044184726, 0.4412945318821897, 0.36695133222053766, 0.3444249553017884, 0.3524300976942825, 0.34226778700231275], [0.5025606214532673, 0.4510563399822762, 0.43416167463885746, 0.42289559317008285, 0.45551770250038687, 0.5455963496667279, 0.38531412389380437, 0.3782451243496116, 0.4083441438214771, 0.35906950025385675, 0.3610917282496361, 0.34965200735163693, 0.37075133978628966, 0.3513856084113512, 0.3563363117902575, 0.34501911315795913, 0.4001299868996761, 0.41119154504682376, 0.34587944145887145, 0.3409081505466594]]\n",
      " Final R2 = 73.89 , RMSE = 0.000327\n"
     ]
    }
   ],
   "source": [
    "# path = 'init.pth'\n",
    "# torch.save(model.state_dict(), path)\n",
    "config = {\n",
    "    'seed': 9,\n",
    "    'n_epochs': 20,     # Number of epoche(Interation)           \n",
    "    'batch_size': 64, \n",
    "    'learning_rate': 0.001,              \n",
    "    'early_stop': 6,    # If model has not improved for this many consecutive epoche, stop training/如果early_stop轮损失没有下降就停止训练.     \n",
    "    'save_path': ['./models/model1.ckpt','./models/model2.ckpt','./models/model3.ckpt','./models/model4.ckpt','./models/model5.ckpt'],  # Model will be saved here.\n",
    "}\n",
    "\n",
    "list_train = []\n",
    "list_valid = [] \n",
    "list_pred = []\n",
    "y_test_r = torch.tensor(y_test[:,4])\n",
    "for k, (train_index, valid_index) in enumerate(kf.split(x_rest)):\n",
    "    print(\"Fold:\", k+1,\"/5\")\n",
    "    setup_seed(config['seed'])\n",
    "    model = RePN_Model( [16, 64, 128], [[32, 32, 64], [64, 64, 128], [64, 96, 128]]).to(device) # 将模型和训练数据放在相同的存储位置(CPU/GPU)\n",
    "    model =  copy.deepcopy(model)\n",
    "    optimizer = torch.optim.Adam(model.parameters(), lr=config['learning_rate']) # Define Optimizer\n",
    "    x_train, x_valid = x_rest[train_index], x_rest[valid_index]\n",
    "    y_train, y_valid = y_rest[train_index], y_rest[valid_index]\n",
    "    train_loader,valid_loader,test_loader = loader(x_train, y_train,x_valid, y_valid, x_test, y_test)\n",
    "    #training-------------------------------------------------------------------------------------------------------\n",
    "    print('training...')\n",
    "    list_mean_train_loss, list_mean_valid_loss, best_loss = trainer(train_loader, valid_loader, model, config, device, optimizer )\n",
    "    #print('list_mean_train_loss:{}'.format(list_mean_train_loss))\n",
    "    #print('list_mean_valid_loss:{}'.format(list_mean_valid_loss))\n",
    "    print_summary( list_mean_train_loss, list_mean_valid_loss)\n",
    "    list_train.append(list_mean_train_loss)\n",
    "    list_valid.append(list_mean_valid_loss)\n",
    "    #test------------------------------------------------------------------------------------------------------------\n",
    "    print('testing...')\n",
    "    preds = test(test_loader, device, k, y_test_r)\n",
    "    list_pred.append(preds)\n",
    "    pass\n",
    "\n",
    "preds = np.mean(list_pred, axis=0)\n",
    "save_pred(preds, 'pred.csv')\n",
    "print('list_train:{}'.format(list_train))\n",
    "print('list_valid:{}'.format(list_valid))\n",
    "RMSE = np.sqrt(mean_squared_error(y_test_r, preds))\n",
    "R2 = r2_score(y_test_r, preds)\n",
    "print(f\" Final R2 = {R2*100:.2f} , RMSE = {RMSE:.6f}\") \n",
    "#list_train = list(np.mean(list_train,axis=0))\n",
    "#list_valid = list(np.mean(list_valid,axis=0))\n",
    "#print_summary( list_train, list_valid)\n",
    "#print('list_train:{}'.format(list_train))\n",
    "#print('list_valid:{}'.format(list_valid))\n",
    "    \n",
    "\n",
    "\n",
    "\n"
   ]
  },
  {
   "cell_type": "markdown",
   "metadata": {},
   "source": [
    "### Calibration"
   ]
  },
  {
   "cell_type": "code",
   "execution_count": 2,
   "metadata": {},
   "outputs": [
    {
     "name": "stdout",
     "output_type": "stream",
     "text": [
      "['[5.9234e-05]' '[0.00138197]' '[0.00124242]' ... '[0.00044209]'\n",
      " '[0.00019049]' '[0.00055552]']\n"
     ]
    }
   ],
   "source": [
    "import pandas as pd\n",
    "import numpy as np\n",
    "import matplotlib.pyplot as plt\n",
    "# 读取同一文件夹下的 pred.csv 文件\n",
    "preds = pd.read_csv('pred.csv')\n",
    "preds = preds['tested_positive']\n",
    "#preds = [x[1:,:] for x in preds]\n",
    "preds = np.array(preds)\n",
    "#preds = [x[0] for x in preds]\n",
    "print(preds)"
   ]
  },
  {
   "cell_type": "code",
   "execution_count": 1,
   "metadata": {},
   "outputs": [
    {
     "data": {
      "text/plain": [
       "[0.059234,\n",
       " 1.38197,\n",
       " 1.2424199999999999,\n",
       " 0.37533,\n",
       " -0.28003,\n",
       " 0.36087,\n",
       " 0.50208,\n",
       " 0.34014,\n",
       " 0.13368000000000002,\n",
       " 0.12251,\n",
       " -0.077835095,\n",
       " 0.52933,\n",
       " 0.16190000000000002,\n",
       " 0.021991017999999998,\n",
       " -0.10694000000000001,\n",
       " 0.3839,\n",
       " 0.40143,\n",
       " 0.28567000000000004,\n",
       " 0.21864,\n",
       " 0.49478,\n",
       " 0.40295000000000003,\n",
       " 1.12284,\n",
       " 0.26313,\n",
       " 0.31933,\n",
       " 0.23861,\n",
       " 4.6178,\n",
       " 0.32700999999999997,\n",
       " 0.16452,\n",
       " 0.009239464999999999,\n",
       " 0.48997999999999997,\n",
       " 1.25241,\n",
       " 0.24291,\n",
       " 0.30522,\n",
       " 0.20798999999999998,\n",
       " 0.17490999999999998,\n",
       " -0.28016,\n",
       " 0.015305563999999999,\n",
       " 0.34306000000000003,\n",
       " 0.6621,\n",
       " 0.00042426400000000004,\n",
       " -0.28121,\n",
       " 0.47716000000000003,\n",
       " 0.5887899999999999,\n",
       " 0.23691,\n",
       " 1.57574,\n",
       " 0.22594999999999998,\n",
       " 0.42423,\n",
       " 0.19445,\n",
       " 0.20374,\n",
       " 0.29797999999999997,\n",
       " 0.1487,\n",
       " 0.68414,\n",
       " 0.5048900000000001,\n",
       " 0.43624,\n",
       " 0.5420499999999999,\n",
       " 0.29838,\n",
       " 1.81898,\n",
       " 0.39371,\n",
       " 1.1816000000000002,\n",
       " 1.23856,\n",
       " 0.20247,\n",
       " 0.28412,\n",
       " 0.60843,\n",
       " 0.21902,\n",
       " -0.17637999999999998,\n",
       " 0.62383,\n",
       " 0.0010999153,\n",
       " 0.62718,\n",
       " 0.6142,\n",
       " 0.40102,\n",
       " 0.39185000000000003,\n",
       " 0.26450999999999997,\n",
       " 0.22719999999999999,\n",
       " 0.09102053,\n",
       " 0.34561,\n",
       " -0.13652,\n",
       " 0.50126,\n",
       " 0.083857936,\n",
       " 0.39744,\n",
       " 0.44206999999999996,\n",
       " 0.31342000000000003,\n",
       " 0.30139,\n",
       " -0.22694,\n",
       " 0.61903,\n",
       " -0.21629,\n",
       " 0.9803100000000001,\n",
       " 1.03287,\n",
       " 1.48075,\n",
       " 1.26472,\n",
       " 0.88079,\n",
       " -0.18856,\n",
       " 0.34199,\n",
       " 0.18986,\n",
       " 0.051777880000000005,\n",
       " 0.32989,\n",
       " 0.78356,\n",
       " 0.37857,\n",
       " 0.43144,\n",
       " 0.05595428,\n",
       " 0.08327599999999999,\n",
       " 0.40109,\n",
       " 1.5409499999999998,\n",
       " 0.26285000000000003,\n",
       " 0.39092,\n",
       " 2.5256,\n",
       " -0.16465,\n",
       " 0.41898,\n",
       " 0.17880000000000001,\n",
       " 0.3726,\n",
       " 0.019026036,\n",
       " 0.34798,\n",
       " 0.17361000000000001,\n",
       " 0.48524,\n",
       " -0.038208556,\n",
       " -0.051632942,\n",
       " 0.08817758,\n",
       " 0.18199,\n",
       " 0.019032112,\n",
       " 1.3949399999999998,\n",
       " 0.27057,\n",
       " 0.70825,\n",
       " 0.23518,\n",
       " -0.11835,\n",
       " 0.13433,\n",
       " -0.05269782,\n",
       " -0.11226,\n",
       " 0.23374,\n",
       " 0.35659,\n",
       " -0.20084000000000002,\n",
       " 0.48868,\n",
       " 0.3977,\n",
       " 0.08890255999999999,\n",
       " 0.63904,\n",
       " 0.18474,\n",
       " 1.09731,\n",
       " 0.33823000000000003,\n",
       " 0.29777,\n",
       " 0.15516,\n",
       " -0.0025883085000000003,\n",
       " 0.18277,\n",
       " 0.50104,\n",
       " 0.31118,\n",
       " 0.13582000000000002,\n",
       " 0.7265400000000001,\n",
       " 0.7036399999999999,\n",
       " 0.17635,\n",
       " -0.10961,\n",
       " 0.41931,\n",
       " 0.49659,\n",
       " 0.07319813400000001,\n",
       " 0.31311,\n",
       " 0.32108000000000003,\n",
       " 0.52421,\n",
       " 0.20478,\n",
       " 0.43705000000000005,\n",
       " 0.2206,\n",
       " 0.08599793400000001,\n",
       " 0.072566865,\n",
       " -0.21981,\n",
       " 0.36812,\n",
       " 0.28254,\n",
       " 0.19190000000000002,\n",
       " 0.99197,\n",
       " 1.32905,\n",
       " 0.049217604,\n",
       " 0.19322,\n",
       " 0.24547000000000002,\n",
       " 0.075684395,\n",
       " 0.66128,\n",
       " 0.39441,\n",
       " 1.34921,\n",
       " 0.67236,\n",
       " 0.59836,\n",
       " 0.21618,\n",
       " 0.40776,\n",
       " 0.18141000000000002,\n",
       " 0.33584,\n",
       " 0.24678999999999998,\n",
       " 0.40172,\n",
       " 0.1061,\n",
       " 0.3906,\n",
       " 0.33998,\n",
       " 1.46872,\n",
       " 0.36074,\n",
       " 0.06154696,\n",
       " 0.49644,\n",
       " 0.7043499999999999,\n",
       " -0.060252099999999996,\n",
       " 0.5621499999999999,\n",
       " 0.24252,\n",
       " 0.44920000000000004,\n",
       " 0.06721951000000001,\n",
       " 0.054159412999999997,\n",
       " 0.14708000000000002,\n",
       " -0.13422,\n",
       " 0.27842999999999996,\n",
       " 0.6121,\n",
       " 0.28018,\n",
       " 0.26223,\n",
       " 0.30097,\n",
       " 1.10319,\n",
       " -0.086931046,\n",
       " 0.20354999999999998,\n",
       " 0.42195,\n",
       " 0.29442999999999997,\n",
       " 1.3340299999999998,\n",
       " 0.13988,\n",
       " -0.28991,\n",
       " -0.27465999999999996,\n",
       " 1.07915,\n",
       " -0.18312,\n",
       " 0.35469,\n",
       " -0.12268000000000001,\n",
       " 0.09279388,\n",
       " 0.08381766,\n",
       " 0.12524,\n",
       " -0.0562449,\n",
       " 0.75057,\n",
       " 0.19579,\n",
       " 0.43803000000000003,\n",
       " 0.18165,\n",
       " 0.17285,\n",
       " 3.33711,\n",
       " 0.39561,\n",
       " 1.02911,\n",
       " 0.16695,\n",
       " 0.36382,\n",
       " 0.22073,\n",
       " 0.44589,\n",
       " 0.28002000000000005,\n",
       " 0.24023999999999998,\n",
       " 0.47206,\n",
       " 0.20891,\n",
       " 0.21764,\n",
       " 0.3139,\n",
       " -0.008910359,\n",
       " 0.20238,\n",
       " -0.35372000000000003,\n",
       " 0.25506,\n",
       " 0.17296,\n",
       " -0.23379,\n",
       " 0.55323,\n",
       " 0.20122,\n",
       " 0.47437,\n",
       " 0.056905577000000006,\n",
       " 0.26245,\n",
       " 1.14411,\n",
       " 0.09392528,\n",
       " 0.30986,\n",
       " 0.0696982,\n",
       " 0.35841,\n",
       " 0.19269,\n",
       " 0.47435,\n",
       " 0.41318000000000005,\n",
       " 0.22589,\n",
       " 0.30162,\n",
       " -0.16349,\n",
       " 1.32134,\n",
       " 0.2101,\n",
       " 1.16465,\n",
       " 0.12787,\n",
       " 1.41592,\n",
       " 0.16524,\n",
       " -0.15877,\n",
       " 0.07325611,\n",
       " 0.26899,\n",
       " 0.26848,\n",
       " 0.37565,\n",
       " 0.07694012,\n",
       " 0.14998,\n",
       " -0.015255739,\n",
       " 0.98756,\n",
       " 0.41622000000000003,\n",
       " 0.25897000000000003,\n",
       " -0.11022,\n",
       " 0.51278,\n",
       " 0.27689,\n",
       " 0.28221,\n",
       " 1.29802,\n",
       " 0.32813,\n",
       " 0.26497,\n",
       " 0.39490000000000003,\n",
       " 0.5371100000000001,\n",
       " 0.6865699999999999,\n",
       " 1.3237100000000002,\n",
       " -0.13221000000000002,\n",
       " 0.9783599999999999,\n",
       " 0.75545,\n",
       " -0.11204,\n",
       " 0.52584,\n",
       " 0.11706,\n",
       " 0.15176,\n",
       " 0.27164000000000005,\n",
       " 0.11343,\n",
       " 0.54201,\n",
       " 1.11853,\n",
       " 0.5347999999999999,\n",
       " 0.5389700000000001,\n",
       " 2.47749,\n",
       " 1.3552499999999998,\n",
       " 0.16647,\n",
       " 0.27474,\n",
       " 0.02239209,\n",
       " 0.51604,\n",
       " 0.16882,\n",
       " 0.16768,\n",
       " 0.09349857,\n",
       " 0.6752,\n",
       " -0.057100922,\n",
       " 0.73509,\n",
       " 0.39149,\n",
       " 0.19624,\n",
       " 0.39645,\n",
       " 0.18513000000000002,\n",
       " 0.157,\n",
       " 4.79793,\n",
       " 0.27508,\n",
       " 0.6147900000000001,\n",
       " 0.53765,\n",
       " 0.18384999999999999,\n",
       " 0.42172,\n",
       " 0.45071,\n",
       " -0.046574838,\n",
       " 0.75553,\n",
       " 0.32288,\n",
       " 0.45935000000000004,\n",
       " 2.54425,\n",
       " 0.41311000000000003,\n",
       " 0.29781,\n",
       " 0.26689999999999997,\n",
       " 0.39963,\n",
       " 0.48062,\n",
       " 0.65004,\n",
       " 0.078415454,\n",
       " 3.6979,\n",
       " -0.09188689,\n",
       " -0.14695999999999998,\n",
       " 1.16851,\n",
       " 0.36586,\n",
       " 0.164,\n",
       " 0.24497000000000002,\n",
       " 0.25997,\n",
       " -0.028311018,\n",
       " 0.10096,\n",
       " 0.25849,\n",
       " 0.26463000000000003,\n",
       " 0.14123,\n",
       " 0.46301,\n",
       " 0.12947,\n",
       " 0.17242000000000002,\n",
       " 0.38039999999999996,\n",
       " 0.29307999999999995,\n",
       " 0.47236,\n",
       " 0.18772999999999998,\n",
       " 0.33159,\n",
       " 0.44695999999999997,\n",
       " 0.10637,\n",
       " 0.28587,\n",
       " 0.3772,\n",
       " 0.42011000000000004,\n",
       " 0.10548,\n",
       " 1.23413,\n",
       " 0.019183663,\n",
       " 1.4908199999999998,\n",
       " 0.12952999999999998,\n",
       " 0.11044000000000001,\n",
       " 0.14884,\n",
       " -0.15049,\n",
       " 0.86869,\n",
       " 0.5836399999999999,\n",
       " 1.1772799999999999,\n",
       " 0.44866,\n",
       " 1.08957,\n",
       " 0.72709,\n",
       " 0.13599,\n",
       " 0.30194,\n",
       " 0.24994999999999998,\n",
       " 0.26614,\n",
       " 0.3879,\n",
       " 1.57472,\n",
       " 1.29168,\n",
       " 0.40349999999999997,\n",
       " 1.4469999999999998,\n",
       " 0.65834,\n",
       " 0.34085000000000004,\n",
       " 0.61797,\n",
       " 0.1893,\n",
       " 0.36253,\n",
       " 0.36303,\n",
       " 0.13347,\n",
       " 0.0725321,\n",
       " 0.53026,\n",
       " 0.11592,\n",
       " 1.38335,\n",
       " 1.32379,\n",
       " 0.28145,\n",
       " 0.35633000000000004,\n",
       " 1.13408,\n",
       " 0.34614,\n",
       " 0.50416,\n",
       " 0.25238,\n",
       " 0.26818000000000003,\n",
       " 0.26783999999999997,\n",
       " 0.12863,\n",
       " 0.46472,\n",
       " 0.45943,\n",
       " 0.6123,\n",
       " 0.54852,\n",
       " 0.40369,\n",
       " 0.5342399999999999,\n",
       " 0.35835,\n",
       " 0.38168,\n",
       " 0.2611,\n",
       " 0.9976500000000001,\n",
       " 0.24768,\n",
       " 0.34421,\n",
       " 1.1357599999999999,\n",
       " 0.57453,\n",
       " 0.27791,\n",
       " 0.41803,\n",
       " 1.75961,\n",
       " 0.13636,\n",
       " 1.6328799999999999,\n",
       " 0.7946500000000001,\n",
       " -0.25025,\n",
       " 1.36625,\n",
       " 1.9417499999999999,\n",
       " 0.33118,\n",
       " 0.2539,\n",
       " 0.30266,\n",
       " 0.0063880116,\n",
       " 0.18714999999999998,\n",
       " 0.10357,\n",
       " 0.025461684000000002,\n",
       " 0.65955,\n",
       " 0.33311,\n",
       " 0.18954000000000001,\n",
       " 0.029155354999999997,\n",
       " 0.7398199999999999,\n",
       " -0.1595,\n",
       " -0.16299000000000002,\n",
       " 1.01853,\n",
       " 0.28428,\n",
       " 0.4028,\n",
       " 0.14001000000000002,\n",
       " -0.23168,\n",
       " 0.41959,\n",
       " 0.6203200000000001,\n",
       " 0.08934033400000001,\n",
       " 0.59324,\n",
       " 0.042131007,\n",
       " 0.25403,\n",
       " 0.42345,\n",
       " -0.15508000000000002,\n",
       " 1.08373,\n",
       " 0.6344299999999999,\n",
       " 0.44675,\n",
       " 1.1633200000000001,\n",
       " 0.46902,\n",
       " 0.38075000000000003,\n",
       " -0.029691611,\n",
       " -0.012471503,\n",
       " 0.29457,\n",
       " 1.04671,\n",
       " 0.28407,\n",
       " 0.09997913,\n",
       " 0.35634000000000005,\n",
       " 0.050434937,\n",
       " -0.10712,\n",
       " 1.19914,\n",
       " 0.09679238,\n",
       " 0.74659,\n",
       " 0.1691,\n",
       " 0.42132,\n",
       " -0.042493524000000005,\n",
       " 0.40762,\n",
       " 0.08303946999999999,\n",
       " 2.2399400000000003,\n",
       " 0.17027,\n",
       " 0.6940200000000001,\n",
       " 0.22613,\n",
       " 0.44902000000000003,\n",
       " 0.43877,\n",
       " 0.2417,\n",
       " 0.21661,\n",
       " -0.013944251000000001,\n",
       " 0.38945,\n",
       " 0.46948,\n",
       " 0.5902900000000001,\n",
       " 0.36845999999999995,\n",
       " -0.064134154,\n",
       " 0.45653000000000005,\n",
       " 0.49339,\n",
       " 0.31760000000000005,\n",
       " 0.29202,\n",
       " -0.18234999999999998,\n",
       " 0.013141218,\n",
       " 0.07879336,\n",
       " 0.27377,\n",
       " -0.042140462,\n",
       " 0.010715611,\n",
       " 0.060218060000000004,\n",
       " 0.69731,\n",
       " 0.37689,\n",
       " 0.27549999999999997,\n",
       " 0.25276,\n",
       " 0.47578,\n",
       " 0.1754,\n",
       " 1.16948,\n",
       " 0.30425,\n",
       " 0.10419,\n",
       " 1.30781,\n",
       " 0.44232,\n",
       " 0.27904,\n",
       " 0.27182999999999996,\n",
       " 0.27838999999999997,\n",
       " -0.09469364,\n",
       " 0.32181,\n",
       " 0.28742,\n",
       " 0.27693,\n",
       " 0.17757,\n",
       " 0.42477,\n",
       " 0.30767,\n",
       " 1.43678,\n",
       " 0.60751,\n",
       " 0.16692,\n",
       " 0.08465788,\n",
       " 0.44135,\n",
       " 0.31396,\n",
       " -0.24204,\n",
       " 0.25532,\n",
       " 0.13762,\n",
       " 0.17767,\n",
       " 0.50951,\n",
       " 0.70672,\n",
       " 0.33456,\n",
       " 0.45947000000000005,\n",
       " 0.39646000000000003,\n",
       " 0.20454,\n",
       " 0.36626,\n",
       " -0.025313628,\n",
       " 0.80543,\n",
       " -0.16069,\n",
       " 0.50009,\n",
       " 0.22255,\n",
       " 0.55201,\n",
       " 0.13522,\n",
       " 0.33089,\n",
       " 0.64932,\n",
       " 0.45082,\n",
       " 0.36347,\n",
       " 0.40709999999999996,\n",
       " 0.12553,\n",
       " 1.03185,\n",
       " 0.5210899999999999,\n",
       " 0.28912000000000004,\n",
       " 0.24109,\n",
       " 0.5301699999999999,\n",
       " 0.17167,\n",
       " 0.3028,\n",
       " -0.15019,\n",
       " 0.9801300000000001,\n",
       " 0.12376999999999999,\n",
       " 0.53295,\n",
       " 0.20325000000000001,\n",
       " 0.13493000000000002,\n",
       " 0.24144,\n",
       " 2.25931,\n",
       " -0.20283,\n",
       " 0.29003,\n",
       " 0.19286,\n",
       " 0.11614,\n",
       " 1.2602799999999998,\n",
       " 0.39471,\n",
       " 0.22734000000000001,\n",
       " -0.1237,\n",
       " -0.43807999999999997,\n",
       " -0.0014041318,\n",
       " -0.061303303999999996,\n",
       " 0.22043000000000001,\n",
       " 0.42266,\n",
       " 0.48325,\n",
       " 0.34404,\n",
       " 0.041348859999999994,\n",
       " 0.43226000000000003,\n",
       " -0.044050907,\n",
       " 0.047860573,\n",
       " 0.44524,\n",
       " 2.37705,\n",
       " 0.177,\n",
       " 0.32209,\n",
       " 0.58858,\n",
       " 1.54857,\n",
       " 0.19492,\n",
       " 0.28771,\n",
       " 0.23482,\n",
       " 0.5531699999999999,\n",
       " 0.28508,\n",
       " -0.14690999999999999,\n",
       " 1.38729,\n",
       " 0.26893,\n",
       " 1.0488,\n",
       " 1.2811700000000001,\n",
       " -0.09235509,\n",
       " 0.18593,\n",
       " 1.22082,\n",
       " 0.25586000000000003,\n",
       " 0.35914999999999997,\n",
       " 0.55919,\n",
       " -0.04077763,\n",
       " 0.4773,\n",
       " 0.27033,\n",
       " -0.021462609,\n",
       " 0.25361,\n",
       " 0.38558,\n",
       " 0.18877,\n",
       " 0.28071999999999997,\n",
       " 0.28198999999999996,\n",
       " 0.32582,\n",
       " 0.30468999999999996,\n",
       " 0.17551,\n",
       " 0.30994,\n",
       " 0.43117999999999995,\n",
       " 0.26891000000000004,\n",
       " 0.41008,\n",
       " 0.31134,\n",
       " 0.15777,\n",
       " 0.38193,\n",
       " 0.38136000000000003,\n",
       " 0.28257,\n",
       " 0.04065286,\n",
       " -0.26514000000000004,\n",
       " 0.061431200000000005,\n",
       " -0.11664,\n",
       " 2.18491,\n",
       " 0.42191,\n",
       " 0.42754000000000003,\n",
       " -0.15561,\n",
       " 1.23412,\n",
       " -0.0383639,\n",
       " 0.27074,\n",
       " 0.35995,\n",
       " 0.3373,\n",
       " 0.15651,\n",
       " 0.36058999999999997,\n",
       " 0.8938200000000001,\n",
       " 0.6814600000000001,\n",
       " 1.9042,\n",
       " 0.48071,\n",
       " 0.34259,\n",
       " 0.22822,\n",
       " 0.34402,\n",
       " 1.56103,\n",
       " 0.29363,\n",
       " 0.3499,\n",
       " 0.47047,\n",
       " 0.45129,\n",
       " 1.2920200000000002,\n",
       " 1.3827,\n",
       " 0.2195,\n",
       " 0.90523,\n",
       " 1.406,\n",
       " 0.46205999999999997,\n",
       " 0.72935,\n",
       " 0.59391,\n",
       " 0.22541999999999998,\n",
       " 0.11301,\n",
       " 1.36473,\n",
       " 0.30811,\n",
       " 0.40779,\n",
       " 0.061030267,\n",
       " -0.31851999999999997,\n",
       " 0.05320001,\n",
       " 0.49753000000000003,\n",
       " 0.34364,\n",
       " 0.82923,\n",
       " 0.04638322,\n",
       " -0.020233611999999998,\n",
       " 0.78624,\n",
       " 0.112,\n",
       " 0.77082,\n",
       " -0.14622,\n",
       " -0.06790804,\n",
       " 0.31984999999999997,\n",
       " 0.45707000000000003,\n",
       " 0.41596,\n",
       " -0.14226,\n",
       " -0.15442,\n",
       " 0.06356577000000001,\n",
       " 0.31743,\n",
       " 0.14572000000000002,\n",
       " -0.1544,\n",
       " 0.31756999999999996,\n",
       " 0.034449225,\n",
       " 0.027609616,\n",
       " 0.4281,\n",
       " 0.16543,\n",
       " 1.3585500000000001,\n",
       " -0.15783,\n",
       " 0.3769,\n",
       " 0.4864,\n",
       " 1.13234,\n",
       " 0.45645,\n",
       " 0.5645300000000001,\n",
       " 0.16573,\n",
       " 0.16793,\n",
       " 0.38283,\n",
       " 0.31247,\n",
       " 0.43115,\n",
       " 0.21588,\n",
       " 0.31377,\n",
       " 0.19526,\n",
       " 0.44953000000000004,\n",
       " 0.18589,\n",
       " 0.006388384,\n",
       " -0.098658726,\n",
       " 1.5583699999999998,\n",
       " 0.26789,\n",
       " 0.18478,\n",
       " -0.17967,\n",
       " 0.46079,\n",
       " 1.18658,\n",
       " -0.06758198,\n",
       " 3.36058,\n",
       " 0.29685,\n",
       " 0.34548,\n",
       " 2.13213,\n",
       " 0.45022999999999996,\n",
       " 0.43295999999999996,\n",
       " 0.12086000000000001,\n",
       " 0.25442,\n",
       " 0.37121000000000004,\n",
       " 1.2263199999999999,\n",
       " 0.30105000000000004,\n",
       " 0.14075000000000001,\n",
       " 1.21923,\n",
       " 0.8756200000000001,\n",
       " 0.28644000000000003,\n",
       " 0.16038,\n",
       " -0.051425934,\n",
       " 0.012150407,\n",
       " 0.73588,\n",
       " 0.52516,\n",
       " 0.18992,\n",
       " 1.04265,\n",
       " 0.54381,\n",
       " 0.18054,\n",
       " 0.39246000000000003,\n",
       " 0.46255999999999997,\n",
       " -0.21148999999999998,\n",
       " 0.10316,\n",
       " 0.5162800000000001,\n",
       " 0.38943,\n",
       " -0.16394,\n",
       " 0.27793,\n",
       " 0.0438154,\n",
       " 0.38109,\n",
       " 0.56744,\n",
       " -0.29751,\n",
       " -0.074134165,\n",
       " -0.09419136,\n",
       " 2.10885,\n",
       " 0.22841,\n",
       " 0.06234997,\n",
       " 0.61039,\n",
       " -0.034008874,\n",
       " 0.09227975,\n",
       " 0.88125,\n",
       " 0.58131,\n",
       " 0.25038000000000005,\n",
       " 0.40285,\n",
       " 0.09520119,\n",
       " 0.46288,\n",
       " 0.12751,\n",
       " 0.82044,\n",
       " 0.44997,\n",
       " 0.36501,\n",
       " 0.15511999999999998,\n",
       " 0.38292000000000004,\n",
       " 0.13494,\n",
       " 0.12538,\n",
       " 0.18794,\n",
       " -0.1414,\n",
       " 0.26554,\n",
       " 0.17915,\n",
       " 0.6378,\n",
       " 0.29894,\n",
       " 0.045105604,\n",
       " 0.19326000000000002,\n",
       " 0.13631000000000001,\n",
       " -0.072504976,\n",
       " 0.96982,\n",
       " -0.071961644,\n",
       " 0.82118,\n",
       " 0.34749,\n",
       " 0.17395,\n",
       " 0.051882118,\n",
       " 0.59998,\n",
       " 0.9257799999999999,\n",
       " 0.9686,\n",
       " 0.29279,\n",
       " 0.5036799999999999,\n",
       " -0.10666,\n",
       " 0.2919,\n",
       " 1.2508000000000001,\n",
       " 0.38131,\n",
       " 1.1587399999999999,\n",
       " 0.10497000000000001,\n",
       " 0.20426,\n",
       " 0.17920999999999998,\n",
       " 0.09705881,\n",
       " 0.42649000000000004,\n",
       " 0.46344,\n",
       " 0.23635,\n",
       " 1.3929,\n",
       " -0.0571104,\n",
       " 0.033100765,\n",
       " 1.6430500000000001,\n",
       " 0.0018419698,\n",
       " 0.098970675,\n",
       " 0.27893,\n",
       " 0.56907,\n",
       " 0.5013799999999999,\n",
       " -0.11121,\n",
       " 2.4789999999999996,\n",
       " -0.03562998,\n",
       " 0.43561,\n",
       " 0.28973,\n",
       " 0.26705,\n",
       " 0.21474,\n",
       " 0.10592,\n",
       " 0.23038999999999998,\n",
       " 0.34259,\n",
       " 0.93238,\n",
       " 0.63508,\n",
       " 0.14559999999999998,\n",
       " 0.40698,\n",
       " 0.27094,\n",
       " 0.44551999999999997,\n",
       " 0.17106000000000002,\n",
       " -0.11660999999999999,\n",
       " 0.35591,\n",
       " 0.23399,\n",
       " 0.033163513,\n",
       " 2.33657,\n",
       " 0.40567000000000003,\n",
       " 0.43565,\n",
       " 0.37567,\n",
       " 0.12615,\n",
       " 0.16143000000000002,\n",
       " 0.26837,\n",
       " 0.16598000000000002,\n",
       " 0.7177699999999999,\n",
       " 0.10060000000000001,\n",
       " 0.1086,\n",
       " 0.0817098,\n",
       " 0.49854999999999994,\n",
       " 0.40307,\n",
       " 0.18221,\n",
       " 0.22177000000000002,\n",
       " -0.0838299,\n",
       " -0.037439844,\n",
       " 0.28906,\n",
       " 0.13803,\n",
       " 0.33375,\n",
       " -0.058862475,\n",
       " 0.39477,\n",
       " -0.013349369,\n",
       " 1.4522700000000002,\n",
       " 0.14934,\n",
       " 0.22363,\n",
       " 0.2474,\n",
       " -0.015551737,\n",
       " 0.71609,\n",
       " 0.16583,\n",
       " -0.0009065960000000001,\n",
       " 0.41971,\n",
       " 0.50259,\n",
       " 0.70065,\n",
       " 0.23121,\n",
       " -0.12287,\n",
       " -0.09821258000000001,\n",
       " 0.10874,\n",
       " 0.29592,\n",
       " -0.042308286,\n",
       " 0.29100000000000004,\n",
       " 0.253,\n",
       " 0.033791875,\n",
       " 0.23456,\n",
       " 0.7076199999999999,\n",
       " 0.29178,\n",
       " 0.19587000000000002,\n",
       " 1.12805,\n",
       " 0.16194,\n",
       " 0.36069,\n",
       " 0.07439905,\n",
       " -0.27515999999999996,\n",
       " -0.26287,\n",
       " 0.52384,\n",
       " -0.047478265,\n",
       " 0.19321,\n",
       " 0.36563999999999997,\n",
       " 0.047484275,\n",
       " 1.11491,\n",
       " 0.16254,\n",
       " 0.08791916,\n",
       " 0.27322,\n",
       " 0.22690000000000002,\n",
       " 0.33493,\n",
       " 0.16927,\n",
       " -0.019619032,\n",
       " 1.22522,\n",
       " 0.15611999999999998,\n",
       " 0.32313,\n",
       " 0.24403,\n",
       " 0.70068,\n",
       " 0.14475,\n",
       " 0.14583000000000002,\n",
       " 0.53527,\n",
       " 0.25952000000000003,\n",
       " -0.11323,\n",
       " 0.33127,\n",
       " 0.30841,\n",
       " 0.64493,\n",
       " 0.34334,\n",
       " 0.050808652,\n",
       " 0.31572,\n",
       " 0.32532,\n",
       " 0.1443,\n",
       " 0.10974,\n",
       " 0.9958300000000001,\n",
       " 0.13179000000000002,\n",
       " 0.73357,\n",
       " 0.30904,\n",
       " 0.5012000000000001,\n",
       " 0.16314,\n",
       " 0.25111,\n",
       " -0.063109466,\n",
       " 0.37942,\n",
       " 0.17920999999999998,\n",
       " 0.42433,\n",
       " -0.13489,\n",
       " 0.22094,\n",
       " 0.50126,\n",
       " 0.47973,\n",
       " 0.43486,\n",
       " 1.32015,\n",
       " 0.32420000000000004,\n",
       " 0.30993,\n",
       " 0.31072,\n",
       " 0.2657,\n",
       " 0.1719,\n",
       " 1.59389,\n",
       " 0.40018,\n",
       " 0.32425,\n",
       " 0.38828,\n",
       " 0.2847,\n",
       " 0.21134999999999998,\n",
       " 0.5431499999999999,\n",
       " 0.22605999999999998,\n",
       " 0.94742,\n",
       " 0.4697,\n",
       " 0.25745999999999997,\n",
       " 0.64161,\n",
       " 1.2190599999999998,\n",
       " 0.031106174,\n",
       " 0.07389847,\n",
       " 0.58468,\n",
       " 0.1796,\n",
       " 0.22324000000000002,\n",
       " -0.31704,\n",
       " 1.27058,\n",
       " 0.4904,\n",
       " 0.51325,\n",
       " 0.36029999999999995,\n",
       " 0.43542000000000003,\n",
       " 0.29231,\n",
       " -0.040028383,\n",
       " 0.06031089,\n",
       " 0.2002,\n",
       " 0.19144999999999998,\n",
       " 0.16988999999999999,\n",
       " 0.63995,\n",
       " 0.77924,\n",
       " 0.18375999999999998,\n",
       " 0.29752,\n",
       " 0.44888,\n",
       " 0.29126,\n",
       " 0.38605999999999996,\n",
       " 0.31623,\n",
       " 3.50285,\n",
       " 0.38956,\n",
       " 0.09809523,\n",
       " 0.25131,\n",
       " 0.95226,\n",
       " -0.07767980000000001,\n",
       " 0.16302999999999998,\n",
       " 1.1448800000000001,\n",
       " 1.2842,\n",
       " 0.37474999999999997,\n",
       " ...]"
      ]
     },
     "execution_count": 1,
     "metadata": {},
     "output_type": "execute_result"
    }
   ],
   "source": [
    "import pandas as pd\n",
    "import numpy as np\n",
    "import matplotlib.pyplot as plt\n",
    "import ast\n",
    "# simulated_data = {\n",
    "#     'tested_positive': ['[5.9234e-05]', '[0.00138197]', '[0.00124242]', '[0.00037533]', '[-0.00028803]']\n",
    "# }\n",
    "preds = pd.read_csv('pred.csv')\n",
    "# Create a simulated DataFrame\n",
    "\n",
    "preds_df = pd.DataFrame(preds)\n",
    "\n",
    "# Convert the string representation of list into actual numpy arrays\n",
    "preds = preds_df['tested_positive'].apply(lambda x: np.array(ast.literal_eval(x)))\n",
    "\n",
    "# Extract the first element from each numpy array\n",
    "preds_values = preds.apply(lambda x: x[0])\n",
    "preds_values = preds_values*1000\n",
    "# Convert to a list\n",
    "preds_list = preds_values.tolist()\n",
    "\n",
    "preds_list"
   ]
  },
  {
   "cell_type": "code",
   "execution_count": 57,
   "metadata": {},
   "outputs": [
    {
     "data": {
      "text/plain": [
       "<function matplotlib.pyplot.show(close=None, block=None)>"
      ]
     },
     "execution_count": 57,
     "metadata": {},
     "output_type": "execute_result"
    },
    {
     "data": {
      "image/png": "[encoded data removed]",
      "text/plain": [
       "<Figure size 640x480 with 1 Axes>"
      ]
     },
     "metadata": {},
     "output_type": "display_data"
    }
   ],
   "source": [
    "y_test_r = y_test[:,4]*1000\n",
    "cali =  y_test_r - preds_list\n",
    "plt.hist(cali, bins=1000)\n",
    "mean = np.mean(cali)\n",
    "std = np.std(cali)\n",
    "plt.xlabel(\"Range Residual (mm)\", fontsize=14)\n",
    "plt.ylabel(\"Count []\", fontsize=14)\n",
    "plt.xlim((-3, 3))\n",
    "plt.ylim((0, 12000))\n",
    "#plt.xlim((-0.005, 0.01))\n",
    "plt.title(\"calibrated\", fontweight='bold', fontsize=18)\n",
    "plt.text(1.2, 10000, r'$\\mu$='+str(round(mean,3))+'mm', fontsize=14, fontweight='bold')\n",
    "plt.text(1.2, 9000, r'$\\sigma$='+str(round(std,3))+'mm', fontsize=14, fontweight='bold')\n",
    "plt.show"
   ]
  },
  {
   "cell_type": "code",
   "execution_count": 58,
   "metadata": {},
   "outputs": [
    {
     "data": {
      "text/plain": [
       "<function matplotlib.pyplot.show(close=None, block=None)>"
      ]
     },
     "execution_count": 58,
     "metadata": {},
     "output_type": "execute_result"
    },
    {
     "data": {
      "image/png": "[encoded data removed]",
      "text/plain": [
       "<Figure size 640x480 with 1 Axes>"
      ]
     },
     "metadata": {},
     "output_type": "display_data"
    }
   ],
   "source": [
    "\n",
    "plt.hist(y_test_r, bins=1000)\n",
    "mean = np.mean(y_test_r)\n",
    "std = np.std(y_test_r)\n",
    "plt.xlabel(\"Range Residual (mm)\", fontsize=14)\n",
    "plt.ylabel(\"Count []\", fontsize=14)\n",
    "plt.xlim((-3, 3))\n",
    "plt.ylim((0, 12000))\n",
    "plt.title(\"uncalibrated\", fontweight='bold', fontsize=18)\n",
    "plt.text(1.2, 10000, r'$\\mu$='+str(round(mean,3))+'mm', fontsize=14, fontweight='bold')\n",
    "plt.text(1.2, 9000, r'$\\sigma$='+str(round(std,3))+'mm', fontsize=14, fontweight='bold')\n",
    "plt.show"
   ]
  },
  {
   "cell_type": "code",
   "execution_count": 55,
   "metadata": {},
   "outputs": [
    {
     "data": {
      "image/png": "[encoded data removed]",
      "text/plain": [
       "<Figure size 1500x600 with 2 Axes>"
      ]
     },
     "metadata": {},
     "output_type": "display_data"
    }
   ],
   "source": [
    "\n",
    "\n",
    "import matplotlib.pyplot as plt\n",
    "import numpy as np\n",
    "\n",
    "# Assuming y_test_r and preds_list are numpy arrays containing the real and predicted residuals\n",
    "y_test_r = np.array(y_test_r)\n",
    "preds_list = np.array(preds_list)\n",
    "\n",
    "# Create a hexbin plot\n",
    "fig, ax = plt.subplots(figsize=(15, 6))\n",
    "hb = ax.hexbin(y_test_r, preds_list, gridsize=50, cmap='plasma', extent=(-3, 3, -1, 2))\n",
    "\n",
    "# Create a colorbar with a label\n",
    "cb = plt.colorbar(hb, ax=ax)\n",
    "cb.set_label('Count', fontsize=14)\n",
    "\n",
    "# Set labels and title with the appropriate font sizes\n",
    "ax.set_xlabel('Real residual [mm]', fontsize=14)\n",
    "ax.set_ylabel('Predicted residual [mm]', fontsize=14)\n",
    "#ax.set_title('Hexbin plot of Real vs Predicted Residuals', fontsize=18,fontweight='bold')\n",
    "\n",
    "plt.show()\n"
   ]
  }
 ],
 "metadata": {
  "kernelspec": {
   "display_name": "Python 3 (ipykernel)",
   "language": "python",
   "name": "python3"
  },
  "language_info": {
   "codemirror_mode": {
    "name": "ipython",
    "version": 3
   },
   "file_extension": ".py",
   "mimetype": "text/x-python",
   "name": "python",
   "nbconvert_exporter": "python",
   "pygments_lexer": "ipython3",
   "version": "3.10.12"
  }
 },
 "nbformat": 4,
 "nbformat_minor": 5
}
