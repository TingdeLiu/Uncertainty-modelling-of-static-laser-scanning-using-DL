{
 "cells": [
  {
   "cell_type": "markdown",
   "id": "4f00ca89",
   "metadata": {},
   "source": [
    "# Studienarbeit: Uncertainty modelling of static laser scanning using Pointnet"
   ]
  },
  {
   "cell_type": "markdown",
   "id": "ff5aa4da",
   "metadata": {},
   "source": [
    "##  Imports and settings"
   ]
  },
  {
   "cell_type": "code",
   "execution_count": 1,
   "id": "b6dc2547-f086-4c69-8ade-10cd4db8ddc6",
   "metadata": {},
   "outputs": [],
   "source": [
    "#Numerical, matrix operations\n",
    "import numpy as np\n",
    "import math\n",
    "\n",
    "#Data read and write to make_dot\n",
    "import os\n",
    "import pandas as pd                                           #open source data analysis and manipulation tool\n",
    "import csv\n",
    "\n",
    "# Progress bars\n",
    "from tqdm.notebook import tqdm\n",
    "\n",
    "# Pytorch deep learning tensor manipulation framework\n",
    "import torch\n",
    "import torch.utils.data\n",
    "import torch.nn as nn\n",
    "import torch.nn.functional as F\n",
    "import torch.optim as optim\n",
    "from torch.utils.data import Dataset, DataLoader, random_split\n",
    "#from pointnet_utils import PointNetEncoder, feature_transform_reguliarzer\n",
    "# Switch to CPU when GPU is not available.\n",
    "device = torch.device('cuda' if torch.cuda.is_available() else 'cpu')\n",
    "\n",
    "from torchmetrics.regression import R2Score\n",
    "\n",
    "# Draw pytorch's network\n",
    "#from torchviz import make_dot\n",
    "\n",
    "# Learning curve plotting\n",
    "#from torch.utils.tensorboard import SummaryWriter\n",
    "\n",
    "#Sklearn\n",
    "from sklearn.model_selection import train_test_split\n",
    "from sklearn.preprocessing import StandardScaler , MinMaxScaler\n",
    "from sklearn.neighbors import KDTree\n",
    "from sklearn.metrics import mean_squared_error\n",
    "from sklearn.metrics import r2_score\n",
    "from sklearn.model_selection import KFold\n",
    "from sklearn.model_selection import GridSearchCV\n",
    "#Others\n",
    "import seaborn as sns\n",
    "import matplotlib.pyplot as plt\n",
    "from plyfile import PlyData, PlyElement\n",
    "import random\n",
    "#import open3d as o3d\n",
    "import copy"
   ]
  },
  {
   "cell_type": "markdown",
   "id": "a68bb996",
   "metadata": {},
   "source": [
    "##   Part 1: Laden des Datensatzes & Zuordnen der Features"
   ]
  },
  {
   "cell_type": "code",
   "execution_count": 2,
   "id": "03872cbc",
   "metadata": {},
   "outputs": [],
   "source": [
    "f = r\"C:\\Studienarbeit/Code/01_3DPrint.ply\"\n",
    "ply = PlyData.read(f)\n",
    "x = ply.elements[0].data['x']\n",
    "y = ply.elements[0].data['y']\n",
    "z = ply.elements[0].data['z']\n",
    "Scan_ID = ply.elements[0].data[\"scalar_Scan_ID\"]\n",
    "intensity = ply.elements[0].data['scalar_intensity']\n",
    "incidence = ply.elements[0].data['scalar_incidence']\n",
    "spotsize = ply.elements[0].data['scalar_spotsize']\n",
    "sigma_dist = ply.elements[0].data['scalar_sigma_dist']\n",
    "distance = ply.elements[0].data['scalar_range_measured']\n",
    "range_residual = ply.elements[0].data['scalar_range_residual']\n",
    "\n",
    "raw_f = np.c_[intensity,incidence,sigma_dist,distance]\n",
    "raw_xyz = np.c_[x,y,z]\n",
    "# Hier werdeb die Residuen auf 1 cm begrenzt. Alles was darüber liegt sind höchstwahrscheinlich Ausreißer\n",
    "I = np.where(np.abs(range_residual < 0.01) & (incidence > 10))#&(sigma_dist<0.0007)\n",
    "\n",
    "raw_f = raw_f[I[0],:]\n",
    "xyz = raw_xyz[I[0],:]\n",
    "raw_y = range_residual[I[0]]\n"
   ]
  },
  {
   "cell_type": "markdown",
   "id": "9620e002",
   "metadata": {},
   "source": [
    "### Feature Transformation"
   ]
  },
  {
   "cell_type": "code",
   "execution_count": 3,
   "id": "4f961dde",
   "metadata": {},
   "outputs": [],
   "source": [
    "def pc_normalize(pc):\n",
    "    '''normalize the point cloud by substracting the centroid and dividing by the maximum norm'''\n",
    "    l = pc.shape[0]\n",
    "    centroid = np.mean(pc, axis=0)\n",
    "    pc = pc - centroid\n",
    "    m = np.max(np.sqrt(np.sum(pc**2, axis=1)))\n",
    "    pc = pc / m\n",
    "    return pc\n",
    "\n",
    "device = torch.device('cuda' if torch.cuda.is_available() else 'cpu')\n",
    "scaler = MinMaxScaler()\n",
    "feature  = scaler.fit_transform(raw_f) # normalize\n",
    "raw_fy =np.hstack((feature, raw_y.reshape(-1,1)))\n",
    "xyz = pc_normalize(xyz)\n",
    "scan_id = Scan_ID[I[0]]\n"
   ]
  },
  {
   "cell_type": "markdown",
   "id": "21370ffa",
   "metadata": {},
   "source": [
    "##### read the file of group"
   ]
  },
  {
   "cell_type": "code",
   "execution_count": 4,
   "id": "2547749e",
   "metadata": {},
   "outputs": [],
   "source": [
    "import os\n",
    "\n",
    "def ebene_loader(scan_id, data_path, filename_prefix): \n",
    "    '''load the point cloud of the plane'''\n",
    "    filename_number = str(scan_id)\n",
    "    file_path = os.path.join(data_path, f\"{filename_prefix}_{filename_number}.npy\")\n",
    "    data = np.load(file_path)\n",
    "    data = torch.from_numpy(data) \n",
    "    return data\n",
    "\n",
    "def load_data(scan_ids, data_path, filename_prefix):\n",
    "    raw_x_list = []\n",
    "    for scan_idx in scan_ids:\n",
    "        ebene_xyz = ebene_loader(scan_idx, data_path, filename_prefix)\n",
    "        raw_x_list.append(ebene_xyz)\n",
    "    raw_x = torch.cat(raw_x_list, dim=0)\n",
    "    return raw_x\n",
    "\n",
    "data_path = 'C:/Studienarbeit/Code/Pointnet/data/New/'\n",
    "filename_prefix = \"Group\"\n",
    "scan_ids = np.unique(scan_id)  # 假设scan_id已经定义\n",
    "raw_x = load_data(scan_ids, data_path, filename_prefix)"
   ]
  },
  {
   "cell_type": "markdown",
   "id": "4825b95a",
   "metadata": {},
   "source": [
    "#### Train datensatz & Test datensatz & Valid datensatz"
   ]
  },
  {
   "cell_type": "code",
   "execution_count": 5,
   "id": "7b2a080d",
   "metadata": {},
   "outputs": [
    {
     "name": "stdout",
     "output_type": "stream",
     "text": [
      "torch.Size([253158, 128, 3])\n",
      "test data ratio: 10.0 %\n"
     ]
    }
   ],
   "source": [
    "\n",
    "x_rest, x_test, y_rest, y_test = train_test_split(raw_x, raw_fy,test_size=0.1,random_state=42)\n",
    "#method 1 --------------------------------------------------------------------------------------\n",
    "#x_train, x_valid, y_train, y_valid = train_test_split(x_train, y_train, test_size=0.1, random_state=1) \n",
    "\n",
    "#method 2 KFold --------------------------------------------------------------------------------------\n",
    "# from sklearn.model_selection import KFold\n",
    "kf = KFold(n_splits=5, shuffle=True, random_state=42)\n",
    "print(x_test.shape)\n",
    "print(\"test data ratio:\",round(y_test.shape[0]/raw_fy.shape[0]*100,2),\"%\")\n",
    "\n"
   ]
  },
  {
   "cell_type": "markdown",
   "id": "d82fa34c",
   "metadata": {},
   "source": [
    "### Dataloader \n",
    "Read data from files and set up training, validation, and testing sets. "
   ]
  },
  {
   "cell_type": "code",
   "execution_count": 6,
   "id": "cc7fd8e5",
   "metadata": {},
   "outputs": [],
   "source": [
    "class EbeneDataset(Dataset):  #Dataset\n",
    "    '''\n",
    "    x: np.ndarray  特征矩阵.\n",
    "    y: np.ndarray  目标标签, 如果为None,则是预测的数据集\n",
    "    '''\n",
    "    def __init__(self, x, y=None):\n",
    "        if y is None:\n",
    "            self.y = y\n",
    "        else:\n",
    "            self.y = torch.FloatTensor(y)\n",
    "        self.x = torch.FloatTensor(x)\n",
    "\n",
    "    def __getitem__(self, idx):\n",
    "        if self.y is None:\n",
    "            return self.x[idx]\n",
    "        return self.x[idx], self.y[idx]\n",
    "\n",
    "    def __len__(self):\n",
    "        return len(self.x)"
   ]
  },
  {
   "cell_type": "code",
   "execution_count": 7,
   "id": "1f82571c",
   "metadata": {},
   "outputs": [],
   "source": [
    "def loader(x_train, y_train,x_valid, y_valid,x_test,y_test):\n",
    "    \n",
    "    train_dataset, valid_dataset, test_dataset = EbeneDataset(x_train, y_train),EbeneDataset(x_valid, y_valid),EbeneDataset(x_test,y_test)\n",
    "    #print(train_dataset)\n",
    "\n",
    "    # Pytoch data loader loads pytorch dataset into batchs./使用Pytorch中Dataloader类按照Batch将数据集加载\n",
    "    #sheuffle: 每个 epoch 是否乱序\n",
    "    train_loader = DataLoader(train_dataset, batch_size=config['batch_size'], shuffle=True, pin_memory=True)\n",
    "    valid_loader = DataLoader(valid_dataset, batch_size=config['batch_size'], shuffle=True, pin_memory=True)\n",
    "    test_loader  = DataLoader(test_dataset , batch_size= 1, shuffle=False, pin_memory=True)\n",
    "\n",
    "    return train_loader,valid_loader,test_loader"
   ]
  },
  {
   "cell_type": "markdown",
   "id": "35ac3d35-13f8-4ee4-a433-dfedf92c19fb",
   "metadata": {},
   "source": [
    "## Part 5: Deep learning Modellen "
   ]
  },
  {
   "cell_type": "markdown",
   "id": "e685ec5a",
   "metadata": {},
   "source": [
    "### Transform & Transform reguliarze & PointNet"
   ]
  },
  {
   "attachments": {
    "image.png": {
     "image/png": "[encoded data removed]"
    }
   },
   "cell_type": "markdown",
   "id": "408bcb1d",
   "metadata": {},
   "source": [
    "### Multi-scalegrouping $ Pointnet++\n",
    "![image.png](attachment:image.png)"
   ]
  },
  {
   "cell_type": "markdown",
   "id": "136c76c8",
   "metadata": {},
   "source": [
    "### Defining the PR_Model "
   ]
  },
  {
   "cell_type": "code",
   "execution_count": 8,
   "id": "984843c7",
   "metadata": {},
   "outputs": [],
   "source": [
    "\n",
    "################\n",
    "class RePN_Model(nn.Module): #Regression-PointNet\n",
    "    def __init__(self,  nsample_list, mlp_list):\n",
    "        super(RePN_Model, self).__init__()\n",
    "        self.nsample_list = nsample_list\n",
    "        self.mlp_list = mlp_list\n",
    "        self.conv_blocks = nn.ModuleList() #ModuleList是一个储存各种模块的容器，可以像使用list一样使用它\n",
    "        self.bn_blocks = nn.ModuleList()\n",
    "        for i in range(len(mlp_list)):\n",
    "            convs = nn.ModuleList()\n",
    "            bns = nn.ModuleList()\n",
    "            last_channel =  3\n",
    "            for out_channel in mlp_list[i]:\n",
    "                convs.append(nn.Conv1d(last_channel, out_channel, 1))\n",
    "                bns.append(nn.BatchNorm1d(out_channel))\n",
    "                last_channel = out_channel\n",
    "            self.conv_blocks.append(convs)\n",
    "            self.bn_blocks.append(bns)\n",
    "        #print(\"self.conv_blocks:{}\".format(self.conv_blocks))\n",
    "        #print('self.bn_blocks:{}'.format(self.bn_blocks))\n",
    "        self.fc1 = nn.Linear(324, 216) \n",
    "        self.fc2 = nn.Linear(216, 216)\n",
    "        self.fc3 = nn.Linear(216, 110)\n",
    "        self.fc4 = nn.Linear(110, 110)\n",
    "        self.fc5 = nn.Linear(110, 1)\n",
    "        self.noli = nn.ReLU()       #non-linearity\n",
    "\n",
    "\n",
    "    def forward(self, x, f):\n",
    "        xn = x.permute(0, 2, 1)  # [B, 3, K] \n",
    "        #print(\"x:{}\".format(x))\n",
    "        #print(\"x shape:{}\".format(x.shape))\n",
    "        new_points_list = []\n",
    "        # Convolution input: [B, 3, K]  output: [B, 64/128/128, K]\n",
    "        for i, nsample in enumerate(self.nsample_list):\n",
    "            #print(\"i:{}\".format(i))\n",
    "            x = xn[:,:,:nsample]\n",
    "            for j in range(len(self.conv_blocks[i])):\n",
    "                #print(\"j:{}\".format(j))\n",
    "                conv = self.conv_blocks[i][j]\n",
    "                #print(\"conv:{}\".format(conv))\n",
    "                bn = self.bn_blocks[i][j]\n",
    "                #print(\"x shape:{}\".format(x.shape))\n",
    "                #grouped_points =  F.relu(bn(conv(x))) #卷积 B*3*K\n",
    "                x = conv(x)\n",
    "                x = bn(x)\n",
    "                x = F.relu(x)\n",
    "\n",
    "            new_points = torch.max(x, 2)[0]  # [B, 64/128/128] The first radius feature I*64 /The second radius feature I*128 /The third radius feature I*128\n",
    "            new_points_list.append(new_points) #B*64 + B*128 + B*128    \n",
    "        new_points_concat = torch.cat(new_points_list, dim=1)\n",
    "        x = torch.cat([new_points_concat, f], dim=1) #B*(320+4) \n",
    "        # fully connected layer       \n",
    "        x = self.fc1(x)\n",
    "        x = self.noli(x)\n",
    "        x = self.fc2(x)\n",
    "        x = self.noli(x)\n",
    "        x = self.fc3(x)\n",
    "        x = self.noli(x)\n",
    "        x = self.fc4(x)\n",
    "        x = self.noli(x)\n",
    "        x = self.fc5(x)\n",
    "\n",
    "        return x\n",
    "\n",
    "\n"
   ]
  },
  {
   "cell_type": "markdown",
   "id": "5b25419b",
   "metadata": {},
   "source": [
    "### Training loop"
   ]
  },
  {
   "cell_type": "code",
   "execution_count": 9,
   "id": "b7467de8",
   "metadata": {},
   "outputs": [],
   "source": [
    "def trainer(train_loader, valid_loader, model, config, device):\n",
    "    \n",
    "    list_mean_train_loss = []\n",
    "    list_mean_valid_loss = []\n",
    "\n",
    "    criterion = nn.MSELoss() # loss function\n",
    "    #criterion = nn.CrossEntropyLoss() # loss function\n",
    "    \n",
    "    # Define Optimizer\n",
    "    #optimizer = torch.optim.SGD(model.parameters(), lr=config['learning_rate'], momentum=0.9) #\n",
    "    optimizer = torch.optim.Adam(model.parameters(), lr=config['learning_rate']) #\n",
    "    if not os.path.isdir('./models'):\n",
    "        # Create folder - for storing models\n",
    "        os.mkdir('./models')\n",
    "\n",
    "    n_epochs, best_loss, step, early_stop_count = config['n_epochs'], math.inf, 0, 0 #math.inf 无穷大\n",
    "\n",
    "    for epoch in range(n_epochs):\n",
    "        model.train() \n",
    "        loss_record = []\n",
    "  \n",
    "#train-----------------------------------------------------------------------------------------------------------\n",
    "        # tqdm helps us to show the progress of our training  \n",
    "        train_pbar = tqdm(train_loader, position=0, leave=True)      \n",
    "        # Set the left side of the progress bar : Show the number of Epochs\n",
    "        train_pbar.set_description(f'Epoch [{epoch+1}/{n_epochs}]')\n",
    "        ss = 0\n",
    "        for x, y in train_pbar:\n",
    " \n",
    "            ss +=1\n",
    "            f = y[:,:4]\n",
    "            y = y[:,4]\n",
    "            y = y.view(-1, 1)\n",
    "            optimizer.zero_grad()               # Set the gradient to 0..\n",
    "            x,  y, f = x.to(device), y.to(device),f.to(device)   # Transfer data one to the appropriate storage location (CPU/GPU)\n",
    "            pred = model(x, f)      \n",
    "            loss = criterion(pred, y)\n",
    "            loss.backward()                     # Back propagation Calculation of gradients.\n",
    "            optimizer.step()                    # Update network parameters\n",
    "            step += 1\n",
    "            loss_record.append(loss.detach().item())\n",
    "\n",
    "            # After training a batch of data, show the loss on the right side of the progress bar\n",
    "            #train_pbar.set_postfix({'loss': loss.detach().item()})\n",
    "            if ss == 200:\n",
    "               mean_train_loss = np.sqrt(np.mean(loss_record))*1000\n",
    "               train_pbar.set_description('RMSE=: %f' % (mean_train_loss))\n",
    "               ss = 0\n",
    "               pass\n",
    "            pass\n",
    "        \n",
    "        mean_train_loss = np.mean(loss_record)\n",
    "        mean_train_loss = np.sqrt(mean_train_loss)*1000\n",
    "        list_mean_train_loss.append(mean_train_loss)\n",
    "\n",
    "#validation-------------------------------------------------------------------------------------------------------\n",
    "        model.eval() # Set the model to evaluation mode.\n",
    "        loss_record = []\n",
    "\n",
    "        for x, y in valid_loader:\n",
    "            f = y[:,:4]\n",
    "            y = y[:,4].view(-1, 1)\n",
    "            x, y, f = x.to(device), y.to(device), f.to(device)\n",
    "            with torch.no_grad():\n",
    "                pred = model(x, f)\n",
    "                loss = criterion(pred, y)\n",
    "            loss_record.append(loss.item())\n",
    "            pass\n",
    "\n",
    "        mean_valid_loss = np.mean(loss_record)\n",
    "        mean_valid_loss = np.sqrt(mean_valid_loss)*1000\n",
    "        list_mean_valid_loss.append(mean_valid_loss)\n",
    "        print(f'Epoch [{epoch+1}/{n_epochs}]: Train loss: {mean_train_loss:.12f},\\\n",
    "        Valid loss: {mean_valid_loss:.12f}')\n",
    "\n",
    "#------------------------------------------------------------------------------------------------------------------ \n",
    "        if mean_valid_loss < best_loss:\n",
    "            best_loss = mean_valid_loss\n",
    "            torch.save(model.state_dict(), config['save_path'][k]) # Model Saving\n",
    "            print('Saving model with loss {:.12f}...'.format(best_loss))\n",
    "            early_stop_count = 0\n",
    "        else: \n",
    "            early_stop_count += 1\n",
    "\n",
    "        if early_stop_count >= config['early_stop']:\n",
    "            print('\\nModel is not improving, so we halt the training session.')\n",
    "            return list_mean_train_loss, list_mean_valid_loss\n",
    "        pass\n",
    "    return list_mean_train_loss, list_mean_valid_loss , best_loss\n"
   ]
  },
  {
   "cell_type": "markdown",
   "id": "5b17484b",
   "metadata": {},
   "source": [
    "### Start training"
   ]
  },
  {
   "cell_type": "code",
   "execution_count": 10,
   "id": "26fcc15a",
   "metadata": {},
   "outputs": [],
   "source": [
    "def print_summary( list_mean_train_loss, list_mean_valid_los):\n",
    " \n",
    "    plt.subplot(1,2,2)\n",
    "    plt.plot([x for x in list_mean_train_loss], label='Training Loss')\n",
    "    plt.plot([x for x in list_mean_valid_los], label='Validation Loss')\n",
    "    plt.legend()\n",
    "    plt.show()\n",
    "\n",
    "def setup_seed(seed):\n",
    "    torch.manual_seed(seed)\n",
    "    torch.cuda.manual_seed_all(seed)\n",
    "    np.random.seed(seed)\n",
    "    pass"
   ]
  },
  {
   "cell_type": "code",
   "execution_count": 11,
   "id": "93b038fd",
   "metadata": {},
   "outputs": [
    {
     "name": "stdout",
     "output_type": "stream",
     "text": [
      "[2.5, 3.5, 4.5]\n"
     ]
    }
   ],
   "source": [
    "a = [1,2,3]\n",
    "b = [4,5,6]\n",
    "c = [[1,2,3],[4,5,6]]   \n",
    "c= list(np.mean(c,axis=0))\n",
    "print(c)"
   ]
  },
  {
   "cell_type": "code",
   "execution_count": 12,
   "id": "62c78735",
   "metadata": {},
   "outputs": [
    {
     "data": {
      "application/vnd.jupyter.widget-view+json": {
       "model_id": "4a4b05a79b30443caa1ffbbf77b92218",
       "version_major": 2,
       "version_minor": 0
      },
      "text/plain": [
       "  0%|          | 0/56961 [00:00<?, ?it/s]"
      ]
     },
     "metadata": {},
     "output_type": "display_data"
    },
    {
     "name": "stdout",
     "output_type": "stream",
     "text": [
      "Epoch [1/15]: Train loss: 0.742396476956,        Valid loss: 0.460562238280\n",
      "Saving model with loss 0.460562238280...\n"
     ]
    },
    {
     "data": {
      "application/vnd.jupyter.widget-view+json": {
       "model_id": "a6e7ec1ba1c6495a8814779e40d2c8d1",
       "version_major": 2,
       "version_minor": 0
      },
      "text/plain": [
       "  0%|          | 0/56961 [00:00<?, ?it/s]"
      ]
     },
     "metadata": {},
     "output_type": "display_data"
    },
    {
     "name": "stdout",
     "output_type": "stream",
     "text": [
      "Epoch [2/15]: Train loss: 0.460856146573,        Valid loss: 0.481927545297\n"
     ]
    },
    {
     "data": {
      "application/vnd.jupyter.widget-view+json": {
       "model_id": "8471752c55f247afa78129098d92de99",
       "version_major": 2,
       "version_minor": 0
      },
      "text/plain": [
       "  0%|          | 0/56961 [00:00<?, ?it/s]"
      ]
     },
     "metadata": {},
     "output_type": "display_data"
    },
    {
     "name": "stdout",
     "output_type": "stream",
     "text": [
      "Epoch [3/15]: Train loss: 0.442019681809,        Valid loss: 0.395425873822\n",
      "Saving model with loss 0.395425873822...\n"
     ]
    },
    {
     "data": {
      "application/vnd.jupyter.widget-view+json": {
       "model_id": "05c1ae0b5cae48498a0feab775580381",
       "version_major": 2,
       "version_minor": 0
      },
      "text/plain": [
       "  0%|          | 0/56961 [00:00<?, ?it/s]"
      ]
     },
     "metadata": {},
     "output_type": "display_data"
    },
    {
     "name": "stdout",
     "output_type": "stream",
     "text": [
      "Epoch [4/15]: Train loss: 0.431708085599,        Valid loss: 0.643752957683\n"
     ]
    },
    {
     "data": {
      "application/vnd.jupyter.widget-view+json": {
       "model_id": "b0376346cc034de889e80af805422a50",
       "version_major": 2,
       "version_minor": 0
      },
      "text/plain": [
       "  0%|          | 0/56961 [00:00<?, ?it/s]"
      ]
     },
     "metadata": {},
     "output_type": "display_data"
    },
    {
     "name": "stdout",
     "output_type": "stream",
     "text": [
      "Epoch [5/15]: Train loss: 0.424047241023,        Valid loss: 0.463720630346\n"
     ]
    },
    {
     "data": {
      "application/vnd.jupyter.widget-view+json": {
       "model_id": "4b6ae0d23a2f45a4ae07025362915669",
       "version_major": 2,
       "version_minor": 0
      },
      "text/plain": [
       "  0%|          | 0/56961 [00:00<?, ?it/s]"
      ]
     },
     "metadata": {},
     "output_type": "display_data"
    },
    {
     "name": "stdout",
     "output_type": "stream",
     "text": [
      "Epoch [6/15]: Train loss: 0.419361023737,        Valid loss: 0.372684673910\n",
      "Saving model with loss 0.372684673910...\n"
     ]
    },
    {
     "data": {
      "application/vnd.jupyter.widget-view+json": {
       "model_id": "16c248c861504faa969c703544e28dc3",
       "version_major": 2,
       "version_minor": 0
      },
      "text/plain": [
       "  0%|          | 0/56961 [00:00<?, ?it/s]"
      ]
     },
     "metadata": {},
     "output_type": "display_data"
    },
    {
     "name": "stdout",
     "output_type": "stream",
     "text": [
      "Epoch [7/15]: Train loss: 0.409368477522,        Valid loss: 0.401466688865\n"
     ]
    },
    {
     "data": {
      "application/vnd.jupyter.widget-view+json": {
       "model_id": "b38d417c96594ffc80af5006c6478a99",
       "version_major": 2,
       "version_minor": 0
      },
      "text/plain": [
       "  0%|          | 0/56961 [00:00<?, ?it/s]"
      ]
     },
     "metadata": {},
     "output_type": "display_data"
    },
    {
     "name": "stdout",
     "output_type": "stream",
     "text": [
      "Epoch [8/15]: Train loss: 0.410312295582,        Valid loss: 0.360753861733\n",
      "Saving model with loss 0.360753861733...\n"
     ]
    },
    {
     "data": {
      "application/vnd.jupyter.widget-view+json": {
       "model_id": "ed9a21987e6947d5a2a4163bfb7eb13d",
       "version_major": 2,
       "version_minor": 0
      },
      "text/plain": [
       "  0%|          | 0/56961 [00:00<?, ?it/s]"
      ]
     },
     "metadata": {},
     "output_type": "display_data"
    },
    {
     "name": "stdout",
     "output_type": "stream",
     "text": [
      "Epoch [9/15]: Train loss: 0.401108403946,        Valid loss: 0.388838754615\n"
     ]
    },
    {
     "data": {
      "application/vnd.jupyter.widget-view+json": {
       "model_id": "0d29bbcaada24e04bace87659f40421a",
       "version_major": 2,
       "version_minor": 0
      },
      "text/plain": [
       "  0%|          | 0/56961 [00:00<?, ?it/s]"
      ]
     },
     "metadata": {},
     "output_type": "display_data"
    },
    {
     "name": "stdout",
     "output_type": "stream",
     "text": [
      "Epoch [10/15]: Train loss: 0.398233926112,        Valid loss: 0.446737988364\n"
     ]
    },
    {
     "data": {
      "application/vnd.jupyter.widget-view+json": {
       "model_id": "f580eb07a55349f396c5f440ce811406",
       "version_major": 2,
       "version_minor": 0
      },
      "text/plain": [
       "  0%|          | 0/56961 [00:00<?, ?it/s]"
      ]
     },
     "metadata": {},
     "output_type": "display_data"
    },
    {
     "name": "stdout",
     "output_type": "stream",
     "text": [
      "Epoch [11/15]: Train loss: 0.399723940441,        Valid loss: 0.408006484698\n"
     ]
    },
    {
     "data": {
      "application/vnd.jupyter.widget-view+json": {
       "model_id": "9ea015173c154f669dada3981b002b84",
       "version_major": 2,
       "version_minor": 0
      },
      "text/plain": [
       "  0%|          | 0/56961 [00:00<?, ?it/s]"
      ]
     },
     "metadata": {},
     "output_type": "display_data"
    },
    {
     "name": "stdout",
     "output_type": "stream",
     "text": [
      "Epoch [12/15]: Train loss: 0.392907437380,        Valid loss: 0.469207992926\n"
     ]
    },
    {
     "data": {
      "application/vnd.jupyter.widget-view+json": {
       "model_id": "9cd063a227904e01b2ae71b70f6552e9",
       "version_major": 2,
       "version_minor": 0
      },
      "text/plain": [
       "  0%|          | 0/56961 [00:00<?, ?it/s]"
      ]
     },
     "metadata": {},
     "output_type": "display_data"
    },
    {
     "name": "stdout",
     "output_type": "stream",
     "text": [
      "Epoch [13/15]: Train loss: 0.391560049339,        Valid loss: 0.365862018203\n"
     ]
    },
    {
     "data": {
      "application/vnd.jupyter.widget-view+json": {
       "model_id": "d6cb259db37043f6841abd7278aba4dc",
       "version_major": 2,
       "version_minor": 0
      },
      "text/plain": [
       "  0%|          | 0/56961 [00:00<?, ?it/s]"
      ]
     },
     "metadata": {},
     "output_type": "display_data"
    },
    {
     "name": "stdout",
     "output_type": "stream",
     "text": [
      "Epoch [14/15]: Train loss: 0.387885116414,        Valid loss: 0.371268166409\n"
     ]
    },
    {
     "data": {
      "application/vnd.jupyter.widget-view+json": {
       "model_id": "62bf8654241c455e800ea1fa0111cb8b",
       "version_major": 2,
       "version_minor": 0
      },
      "text/plain": [
       "  0%|          | 0/56961 [00:00<?, ?it/s]"
      ]
     },
     "metadata": {},
     "output_type": "display_data"
    },
    {
     "name": "stdout",
     "output_type": "stream",
     "text": [
      "Epoch [15/15]: Train loss: 0.390013238479,        Valid loss: 0.355474494510\n",
      "Saving model with loss 0.355474494510...\n",
      "list_mean_train_loss:[0.742396476956452, 0.4608561465727729, 0.442019681809214, 0.43170808559909696, 0.4240472410227823, 0.4193610237374037, 0.40936847752234856, 0.41031229558206184, 0.40110840394607694, 0.3982339261115776, 0.39972394044083603, 0.39290743737991485, 0.3915600493390999, 0.3878851164144447, 0.3900132384788288]\n",
      "list_mean_valid_loss:[0.4605622382795165, 0.4819275452967781, 0.39542587382234357, 0.6437529576831863, 0.4637206303460515, 0.3726846739098003, 0.40146668886469633, 0.3607538617333235, 0.38883875461479867, 0.4467379883642647, 0.4080064846984756, 0.46920799292648124, 0.36586201820250996, 0.37126816640854954, 0.35547449451027563]\n"
     ]
    },
    {
     "data": {
      "image/png": "[encoded data removed]",
      "text/plain": [
       "<Figure size 640x480 with 1 Axes>"
      ]
     },
     "metadata": {},
     "output_type": "display_data"
    },
    {
     "data": {
      "application/vnd.jupyter.widget-view+json": {
       "model_id": "2d3cc05ba29e47bba785fd3eb993c276",
       "version_major": 2,
       "version_minor": 0
      },
      "text/plain": [
       "  0%|          | 0/56961 [00:00<?, ?it/s]"
      ]
     },
     "metadata": {},
     "output_type": "display_data"
    },
    {
     "name": "stdout",
     "output_type": "stream",
     "text": [
      "Epoch [1/15]: Train loss: 0.384835289492,        Valid loss: 0.381034223108\n",
      "Saving model with loss 0.381034223108...\n"
     ]
    },
    {
     "data": {
      "application/vnd.jupyter.widget-view+json": {
       "model_id": "ce6f32de4eea410ebc97f6d5f1d54012",
       "version_major": 2,
       "version_minor": 0
      },
      "text/plain": [
       "  0%|          | 0/56961 [00:00<?, ?it/s]"
      ]
     },
     "metadata": {},
     "output_type": "display_data"
    },
    {
     "name": "stdout",
     "output_type": "stream",
     "text": [
      "Epoch [2/15]: Train loss: 0.383652607033,        Valid loss: 0.393126830411\n"
     ]
    },
    {
     "data": {
      "application/vnd.jupyter.widget-view+json": {
       "model_id": "66fc526959784522b7a196e4b2f1a386",
       "version_major": 2,
       "version_minor": 0
      },
      "text/plain": [
       "  0%|          | 0/56961 [00:00<?, ?it/s]"
      ]
     },
     "metadata": {},
     "output_type": "display_data"
    },
    {
     "name": "stdout",
     "output_type": "stream",
     "text": [
      "Epoch [3/15]: Train loss: 0.384634877264,        Valid loss: 0.495828796861\n"
     ]
    },
    {
     "data": {
      "application/vnd.jupyter.widget-view+json": {
       "model_id": "be25f7f6dd58477fa3dd792392609f93",
       "version_major": 2,
       "version_minor": 0
      },
      "text/plain": [
       "  0%|          | 0/56961 [00:00<?, ?it/s]"
      ]
     },
     "metadata": {},
     "output_type": "display_data"
    },
    {
     "name": "stdout",
     "output_type": "stream",
     "text": [
      "Epoch [4/15]: Train loss: 0.382731175455,        Valid loss: 0.358491887077\n",
      "Saving model with loss 0.358491887077...\n"
     ]
    },
    {
     "data": {
      "application/vnd.jupyter.widget-view+json": {
       "model_id": "e5b676341b17403f8e2f5a99fa9087e6",
       "version_major": 2,
       "version_minor": 0
      },
      "text/plain": [
       "  0%|          | 0/56961 [00:00<?, ?it/s]"
      ]
     },
     "metadata": {},
     "output_type": "display_data"
    },
    {
     "name": "stdout",
     "output_type": "stream",
     "text": [
      "Epoch [5/15]: Train loss: 0.380912818447,        Valid loss: 0.396627703528\n"
     ]
    },
    {
     "data": {
      "application/vnd.jupyter.widget-view+json": {
       "model_id": "20a7f7615fab44d286547ae0db689d9b",
       "version_major": 2,
       "version_minor": 0
      },
      "text/plain": [
       "  0%|          | 0/56961 [00:00<?, ?it/s]"
      ]
     },
     "metadata": {},
     "output_type": "display_data"
    },
    {
     "name": "stdout",
     "output_type": "stream",
     "text": [
      "Epoch [6/15]: Train loss: 0.380998431798,        Valid loss: 0.349940614842\n",
      "Saving model with loss 0.349940614842...\n"
     ]
    },
    {
     "data": {
      "application/vnd.jupyter.widget-view+json": {
       "model_id": "1c5b3973cbf04dbd83b0720b63882590",
       "version_major": 2,
       "version_minor": 0
      },
      "text/plain": [
       "  0%|          | 0/56961 [00:00<?, ?it/s]"
      ]
     },
     "metadata": {},
     "output_type": "display_data"
    },
    {
     "name": "stdout",
     "output_type": "stream",
     "text": [
      "Epoch [7/15]: Train loss: 0.378858027010,        Valid loss: 0.379303906059\n"
     ]
    },
    {
     "data": {
      "application/vnd.jupyter.widget-view+json": {
       "model_id": "11ad3580b851439abcf7ea7ebdc83bba",
       "version_major": 2,
       "version_minor": 0
      },
      "text/plain": [
       "  0%|          | 0/56961 [00:00<?, ?it/s]"
      ]
     },
     "metadata": {},
     "output_type": "display_data"
    },
    {
     "ename": "KeyboardInterrupt",
     "evalue": "",
     "output_type": "error",
     "traceback": [
      "\u001b[1;31m---------------------------------------------------------------------------\u001b[0m",
      "\u001b[1;31mKeyboardInterrupt\u001b[0m                         Traceback (most recent call last)",
      "\u001b[1;32mc:\\Studienarbeit\\Code\\Pointnet\\Regression_Tingde_version6_KFold2.ipynb Cell 25\u001b[0m line \u001b[0;36m2\n\u001b[0;32m     <a href='vscode-notebook-cell:/c%3A/Studienarbeit/Code/Pointnet/Regression_Tingde_version6_KFold2.ipynb#X33sZmlsZQ%3D%3D?line=17'>18</a>\u001b[0m y_train, y_valid \u001b[39m=\u001b[39m y_rest[train_index], y_rest[valid_index]\n\u001b[0;32m     <a href='vscode-notebook-cell:/c%3A/Studienarbeit/Code/Pointnet/Regression_Tingde_version6_KFold2.ipynb#X33sZmlsZQ%3D%3D?line=18'>19</a>\u001b[0m train_loader,valid_loader,test_loader \u001b[39m=\u001b[39m loader(x_train, y_train,x_valid, y_valid, x_test, y_test)\n\u001b[1;32m---> <a href='vscode-notebook-cell:/c%3A/Studienarbeit/Code/Pointnet/Regression_Tingde_version6_KFold2.ipynb#X33sZmlsZQ%3D%3D?line=19'>20</a>\u001b[0m list_mean_train_loss, list_mean_valid_loss \u001b[39m=\u001b[39m trainer(train_loader, valid_loader, model, config, device)\n\u001b[0;32m     <a href='vscode-notebook-cell:/c%3A/Studienarbeit/Code/Pointnet/Regression_Tingde_version6_KFold2.ipynb#X33sZmlsZQ%3D%3D?line=20'>21</a>\u001b[0m \u001b[39mprint\u001b[39m(\u001b[39m'\u001b[39m\u001b[39mlist_mean_train_loss:\u001b[39m\u001b[39m{}\u001b[39;00m\u001b[39m'\u001b[39m\u001b[39m.\u001b[39mformat(list_mean_train_loss))\n\u001b[0;32m     <a href='vscode-notebook-cell:/c%3A/Studienarbeit/Code/Pointnet/Regression_Tingde_version6_KFold2.ipynb#X33sZmlsZQ%3D%3D?line=21'>22</a>\u001b[0m \u001b[39mprint\u001b[39m(\u001b[39m'\u001b[39m\u001b[39mlist_mean_valid_loss:\u001b[39m\u001b[39m{}\u001b[39;00m\u001b[39m'\u001b[39m\u001b[39m.\u001b[39mformat(list_mean_valid_loss))\n",
      "\u001b[1;32mc:\\Studienarbeit\\Code\\Pointnet\\Regression_Tingde_version6_KFold2.ipynb Cell 25\u001b[0m line \u001b[0;36m3\n\u001b[0;32m     <a href='vscode-notebook-cell:/c%3A/Studienarbeit/Code/Pointnet/Regression_Tingde_version6_KFold2.ipynb#X33sZmlsZQ%3D%3D?line=35'>36</a>\u001b[0m pred \u001b[39m=\u001b[39m model(x, f)      \n\u001b[0;32m     <a href='vscode-notebook-cell:/c%3A/Studienarbeit/Code/Pointnet/Regression_Tingde_version6_KFold2.ipynb#X33sZmlsZQ%3D%3D?line=36'>37</a>\u001b[0m loss \u001b[39m=\u001b[39m criterion(pred, y)\n\u001b[1;32m---> <a href='vscode-notebook-cell:/c%3A/Studienarbeit/Code/Pointnet/Regression_Tingde_version6_KFold2.ipynb#X33sZmlsZQ%3D%3D?line=37'>38</a>\u001b[0m loss\u001b[39m.\u001b[39;49mbackward()                     \u001b[39m# Back propagation Calculation of gradients.\u001b[39;00m\n\u001b[0;32m     <a href='vscode-notebook-cell:/c%3A/Studienarbeit/Code/Pointnet/Regression_Tingde_version6_KFold2.ipynb#X33sZmlsZQ%3D%3D?line=38'>39</a>\u001b[0m optimizer\u001b[39m.\u001b[39mstep()                    \u001b[39m# Update network parameters\u001b[39;00m\n\u001b[0;32m     <a href='vscode-notebook-cell:/c%3A/Studienarbeit/Code/Pointnet/Regression_Tingde_version6_KFold2.ipynb#X33sZmlsZQ%3D%3D?line=39'>40</a>\u001b[0m step \u001b[39m+\u001b[39m\u001b[39m=\u001b[39m \u001b[39m1\u001b[39m\n",
      "File \u001b[1;32mc:\\Users\\Tynda\\anaconda3\\envs\\Lidar\\lib\\site-packages\\torch\\_tensor.py:487\u001b[0m, in \u001b[0;36mTensor.backward\u001b[1;34m(self, gradient, retain_graph, create_graph, inputs)\u001b[0m\n\u001b[0;32m    477\u001b[0m \u001b[39mif\u001b[39;00m has_torch_function_unary(\u001b[39mself\u001b[39m):\n\u001b[0;32m    478\u001b[0m     \u001b[39mreturn\u001b[39;00m handle_torch_function(\n\u001b[0;32m    479\u001b[0m         Tensor\u001b[39m.\u001b[39mbackward,\n\u001b[0;32m    480\u001b[0m         (\u001b[39mself\u001b[39m,),\n\u001b[1;32m   (...)\u001b[0m\n\u001b[0;32m    485\u001b[0m         inputs\u001b[39m=\u001b[39minputs,\n\u001b[0;32m    486\u001b[0m     )\n\u001b[1;32m--> 487\u001b[0m torch\u001b[39m.\u001b[39;49mautograd\u001b[39m.\u001b[39;49mbackward(\n\u001b[0;32m    488\u001b[0m     \u001b[39mself\u001b[39;49m, gradient, retain_graph, create_graph, inputs\u001b[39m=\u001b[39;49minputs\n\u001b[0;32m    489\u001b[0m )\n",
      "File \u001b[1;32mc:\\Users\\Tynda\\anaconda3\\envs\\Lidar\\lib\\site-packages\\torch\\autograd\\__init__.py:200\u001b[0m, in \u001b[0;36mbackward\u001b[1;34m(tensors, grad_tensors, retain_graph, create_graph, grad_variables, inputs)\u001b[0m\n\u001b[0;32m    195\u001b[0m     retain_graph \u001b[39m=\u001b[39m create_graph\n\u001b[0;32m    197\u001b[0m \u001b[39m# The reason we repeat same the comment below is that\u001b[39;00m\n\u001b[0;32m    198\u001b[0m \u001b[39m# some Python versions print out the first line of a multi-line function\u001b[39;00m\n\u001b[0;32m    199\u001b[0m \u001b[39m# calls in the traceback and some print out the last line\u001b[39;00m\n\u001b[1;32m--> 200\u001b[0m Variable\u001b[39m.\u001b[39;49m_execution_engine\u001b[39m.\u001b[39;49mrun_backward(  \u001b[39m# Calls into the C++ engine to run the backward pass\u001b[39;49;00m\n\u001b[0;32m    201\u001b[0m     tensors, grad_tensors_, retain_graph, create_graph, inputs,\n\u001b[0;32m    202\u001b[0m     allow_unreachable\u001b[39m=\u001b[39;49m\u001b[39mTrue\u001b[39;49;00m, accumulate_grad\u001b[39m=\u001b[39;49m\u001b[39mTrue\u001b[39;49;00m)\n",
      "\u001b[1;31mKeyboardInterrupt\u001b[0m: "
     ]
    }
   ],
   "source": [
    "\n",
    "\n",
    "config = {\n",
    "    'seed': 9,\n",
    "    'n_epochs': 15,     # Number of epoche(Interation)           \n",
    "    'batch_size': 32, \n",
    "    'learning_rate': 0.001,              \n",
    "    'early_stop': 15,    # If model has not improved for this many consecutive epoche, stop training/如果early_stop轮损失没有下降就停止训练.     \n",
    "    'save_path': ['./models/model1.ckpt','./models/model2.ckpt','./models/model3.ckpt','./models/model4.ckpt','./models/model5.ckpt'],  # Model will be saved here.\n",
    "}\n",
    "setup_seed(config['seed'])\n",
    "#model = Re_Model(input_dim=324,normal_channel=False).to(device) # 将模型和训练数据放在相同的存储位置(CPU/GPU)\n",
    "model = RePN_Model( [16, 32, 128], [[32, 32, 64], [64, 64, 128], [64, 96, 128]]).to(device) # 将模型和训练数据放在相同的存储位置(CPU/GPU)\n",
    "#k = 0\n",
    "list_train = []\n",
    "list_valid = [] \n",
    "for k, (train_index, valid_index) in enumerate(kf.split(x_rest)):\n",
    "    model =  copy.deepcopy(model)\n",
    "    x_train, x_valid = x_rest[train_index], x_rest[valid_index]\n",
    "    y_train, y_valid = y_rest[train_index], y_rest[valid_index]\n",
    "    train_loader,valid_loader,test_loader = loader(x_train, y_train,x_valid, y_valid, x_test, y_test)\n",
    "    #training\n",
    "    list_mean_train_loss, list_mean_valid_loss = trainer(train_loader, valid_loader, model, config, device)\n",
    "    print('list_mean_train_loss:{}'.format(list_mean_train_loss))\n",
    "    print('list_mean_valid_loss:{}'.format(list_mean_valid_loss))\n",
    "    print_summary( list_mean_train_loss, list_mean_valid_loss)\n",
    "    list_train.append(list_mean_train_loss)\n",
    "    list_valid.append(list_mean_valid_loss)\n",
    "    #k += 1\n",
    "    #test\n",
    "    pass\n",
    "list_train = list(np.mean(list_train,axis=0))\n",
    "list_valid = list(np.mean(list_valid,axis=0))\n",
    "print('list_train:{}'.format(list_train))\n",
    "print('list_valid:{}'.format(list_valid))\n",
    "print_summary( list_train, list_valid)\n",
    "    \n",
    "\n",
    "\n",
    "\n"
   ]
  },
  {
   "cell_type": "markdown",
   "id": "4da23a5d",
   "metadata": {},
   "source": [
    "### Test"
   ]
  },
  {
   "cell_type": "code",
   "execution_count": null,
   "id": "d118318d",
   "metadata": {},
   "outputs": [
    {
     "data": {
      "application/vnd.jupyter.widget-view+json": {
       "model_id": "f9cff6a42e8d485abaab4c0217b148e3",
       "version_major": 2,
       "version_minor": 0
      },
      "text/plain": [
       "  0%|          | 0/253158 [00:00<?, ?it/s]"
      ]
     },
     "metadata": {},
     "output_type": "display_data"
    },
    {
     "name": "stdout",
     "output_type": "stream",
     "text": [
      "  R2 = 71.66 , RMSE = 0.000340\n"
     ]
    }
   ],
   "source": [
    "\n",
    "def predict(test_loader, model, device):\n",
    "    model.eval() # 设置成eval模式.\n",
    "    preds = []\n",
    "    f = torch.tensor(y_test[:,:4])\n",
    "    for x, y in tqdm(test_loader):\n",
    "  \n",
    "        f = y[:,:4]\n",
    "        #print(f.shape)\n",
    "        x = x.to(device)                        \n",
    "        with torch.no_grad():\n",
    "            pred = model(x, f)         \n",
    "            preds.append(pred.detach().cpu())   \n",
    "    preds = torch.cat(preds, dim=0).numpy()\n",
    "\n",
    "    # x = test_loader\n",
    "    # #x = x.to(device) \n",
    "    # with torch.no_grad():\n",
    "    #     pred = model(x)         \n",
    "    #     preds.append(pred.detach().cpu())    \n",
    "    return preds\n",
    "\n",
    "def save_pred(preds, file):\n",
    "    ''' 将模型保存到指定位置'''\n",
    "    with open(file, 'w') as fp:\n",
    "        writer = csv.writer(fp)\n",
    "        writer.writerow(['id', 'tested_positive'])\n",
    "        for i, p in enumerate(preds):\n",
    "            writer.writerow([i, p])\n",
    "list_pred = []\n",
    "for i in range(5):\n",
    "    config['save_path'] = './models/model{}.ckpt'.format(i+1)\n",
    "    model.load_state_dict(torch.load(config['save_path']))\n",
    "    preds = predict(test_loader, model, device) \n",
    "    list_pred.append(preds) \n",
    "preds = np.mean(list_pred, axis=0)\n",
    "\n",
    "save_pred(preds, 'pred.csv')\n",
    "y_test = torch.tensor(y_test[:,4])\n",
    "RMSE = np.sqrt(mean_squared_error(y_test, preds))\n",
    "R2 = r2_score(y_test, preds)\n",
    "print(f\"  R2 = {R2*100:.2f} , RMSE = {RMSE:.6f}\") "
   ]
  },
  {
   "cell_type": "markdown",
   "id": "29425f08",
   "metadata": {},
   "source": [
    "|   Interation |hidden layer|  batchsize |learning_rate| RMSE|R2score  |\n",
    "|  ----  | ----  |----  |----  |----  |----  |\n",
    "| 20  |2|64|0.001| 0.3468|70.39 |\n",
    "| 2  | 2 |64|0.001|0.4268||\n",
    "| 2  | 4 |64|0.001|0.4074||\n",
    "| 20  | 4 |64|0.001|0.3361|71.66|\n",
    "| 20  | 2 |64|0.0001|0.498||\n"
   ]
  },
  {
   "cell_type": "code",
   "execution_count": null,
   "id": "0ac7da1d",
   "metadata": {},
   "outputs": [],
   "source": [
    "22"
   ]
  },
  {
   "cell_type": "code",
   "execution_count": null,
   "id": "f114c75d",
   "metadata": {},
   "outputs": [],
   "source": []
  },
  {
   "cell_type": "code",
   "execution_count": null,
   "id": "ab2d2dcd",
   "metadata": {},
   "outputs": [],
   "source": []
  }
 ],
 "metadata": {
  "kernelspec": {
   "display_name": "Python 3 (ipykernel)",
   "language": "python",
   "name": "python3"
  },
  "language_info": {
   "codemirror_mode": {
    "name": "ipython",
    "version": 3
   },
   "file_extension": ".py",
   "mimetype": "text/x-python",
   "name": "python",
   "nbconvert_exporter": "python",
   "pygments_lexer": "ipython3",
   "version": "3.10.12"
  }
 },
 "nbformat": 4,
 "nbformat_minor": 5
}
